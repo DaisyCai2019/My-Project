{
 "cells": [
  {
   "cell_type": "code",
   "execution_count": 399,
   "id": "1f65e83e",
   "metadata": {},
   "outputs": [
    {
     "data": {
      "text/html": [
       "        <script type=\"text/javascript\">\n",
       "        window.PlotlyConfig = {MathJaxConfig: 'local'};\n",
       "        if (window.MathJax) {MathJax.Hub.Config({SVG: {font: \"STIX-Web\"}});}\n",
       "        if (typeof require !== 'undefined') {\n",
       "        require.undef(\"plotly\");\n",
       "        requirejs.config({\n",
       "            paths: {\n",
       "                'plotly': ['https://cdn.plot.ly/plotly-latest.min']\n",
       "            }\n",
       "        });\n",
       "        require(['plotly'], function(Plotly) {\n",
       "            window._Plotly = Plotly;\n",
       "        });\n",
       "        }\n",
       "        </script>\n",
       "        "
      ]
     },
     "metadata": {},
     "output_type": "display_data"
    },
    {
     "data": {
      "text/plain": [
       "<function cufflinks.offline.go_offline(connected=None)>"
      ]
     },
     "execution_count": 399,
     "metadata": {},
     "output_type": "execute_result"
    }
   ],
   "source": [
    "import numpy as np\n",
    "import pandas as pd\n",
    "import seaborn as sns\n",
    "import cufflinks as cf\n",
    "cf.go_offline()\n",
    "import matplotlib.pyplot as plt\n",
    "%matplotlib inline\n",
    "import cufflinks as cf\n",
    "cf.go_offline"
   ]
  },
  {
   "cell_type": "code",
   "execution_count": 400,
   "id": "9a1dca9f",
   "metadata": {},
   "outputs": [],
   "source": [
    "app=pd.read_csv('train.csv')"
   ]
  },
  {
   "cell_type": "code",
   "execution_count": 401,
   "id": "1e46698d",
   "metadata": {},
   "outputs": [
    {
     "data": {
      "text/html": [
       "<div>\n",
       "<style scoped>\n",
       "    .dataframe tbody tr th:only-of-type {\n",
       "        vertical-align: middle;\n",
       "    }\n",
       "\n",
       "    .dataframe tbody tr th {\n",
       "        vertical-align: top;\n",
       "    }\n",
       "\n",
       "    .dataframe thead th {\n",
       "        text-align: right;\n",
       "    }\n",
       "</style>\n",
       "<table border=\"1\" class=\"dataframe\">\n",
       "  <thead>\n",
       "    <tr style=\"text-align: right;\">\n",
       "      <th></th>\n",
       "      <th>app_id</th>\n",
       "      <th>category</th>\n",
       "      <th>reviews</th>\n",
       "      <th>size</th>\n",
       "      <th>installs</th>\n",
       "      <th>price</th>\n",
       "      <th>suitable_for</th>\n",
       "      <th>last_update</th>\n",
       "      <th>latest_ver</th>\n",
       "      <th>popularity</th>\n",
       "    </tr>\n",
       "  </thead>\n",
       "  <tbody>\n",
       "    <tr>\n",
       "      <th>0</th>\n",
       "      <td>330090</td>\n",
       "      <td>PERSONALIZATION</td>\n",
       "      <td>4</td>\n",
       "      <td>511k</td>\n",
       "      <td>50+</td>\n",
       "      <td>0</td>\n",
       "      <td>Everyone</td>\n",
       "      <td>December 31, 2016</td>\n",
       "      <td>1.4</td>\n",
       "      <td>High</td>\n",
       "    </tr>\n",
       "    <tr>\n",
       "      <th>1</th>\n",
       "      <td>226147</td>\n",
       "      <td>GAME</td>\n",
       "      <td>568391</td>\n",
       "      <td>5.2M</td>\n",
       "      <td>5,000,000+</td>\n",
       "      <td>0</td>\n",
       "      <td>Teen</td>\n",
       "      <td>July 1, 2014</td>\n",
       "      <td>4.3.1</td>\n",
       "      <td>High</td>\n",
       "    </tr>\n",
       "    <tr>\n",
       "      <th>2</th>\n",
       "      <td>107000</td>\n",
       "      <td>FAMILY</td>\n",
       "      <td>144</td>\n",
       "      <td>70M</td>\n",
       "      <td>1,000+</td>\n",
       "      <td>$2.99</td>\n",
       "      <td>Teen</td>\n",
       "      <td>January 26, 2018</td>\n",
       "      <td>1.0.0</td>\n",
       "      <td>High</td>\n",
       "    </tr>\n",
       "    <tr>\n",
       "      <th>3</th>\n",
       "      <td>217582</td>\n",
       "      <td>FAMILY</td>\n",
       "      <td>1499466</td>\n",
       "      <td>96M</td>\n",
       "      <td>10,000,000+</td>\n",
       "      <td>0</td>\n",
       "      <td>Teen</td>\n",
       "      <td>July 24, 2018</td>\n",
       "      <td>1.25.0</td>\n",
       "      <td>High</td>\n",
       "    </tr>\n",
       "    <tr>\n",
       "      <th>4</th>\n",
       "      <td>370113</td>\n",
       "      <td>DATING</td>\n",
       "      <td>84</td>\n",
       "      <td>4.5M</td>\n",
       "      <td>1,000+</td>\n",
       "      <td>0</td>\n",
       "      <td>Mature 17+</td>\n",
       "      <td>July 6, 2018</td>\n",
       "      <td>8.2</td>\n",
       "      <td>High</td>\n",
       "    </tr>\n",
       "  </tbody>\n",
       "</table>\n",
       "</div>"
      ],
      "text/plain": [
       "   app_id         category  reviews  size     installs  price suitable_for  \\\n",
       "0  330090  PERSONALIZATION        4  511k          50+      0     Everyone   \n",
       "1  226147             GAME   568391  5.2M   5,000,000+      0         Teen   \n",
       "2  107000           FAMILY      144   70M       1,000+  $2.99         Teen   \n",
       "3  217582           FAMILY  1499466   96M  10,000,000+      0         Teen   \n",
       "4  370113           DATING       84  4.5M       1,000+      0   Mature 17+   \n",
       "\n",
       "         last_update latest_ver popularity  \n",
       "0  December 31, 2016        1.4       High  \n",
       "1       July 1, 2014      4.3.1       High  \n",
       "2   January 26, 2018      1.0.0       High  \n",
       "3      July 24, 2018     1.25.0       High  \n",
       "4       July 6, 2018        8.2       High  "
      ]
     },
     "execution_count": 401,
     "metadata": {},
     "output_type": "execute_result"
    }
   ],
   "source": [
    "app.head()"
   ]
  },
  {
   "cell_type": "code",
   "execution_count": 402,
   "id": "ed433862",
   "metadata": {},
   "outputs": [
    {
     "name": "stdout",
     "output_type": "stream",
     "text": [
      "<class 'pandas.core.frame.DataFrame'>\n",
      "RangeIndex: 1975 entries, 0 to 1974\n",
      "Data columns (total 10 columns):\n",
      " #   Column        Non-Null Count  Dtype \n",
      "---  ------        --------------  ----- \n",
      " 0   app_id        1975 non-null   int64 \n",
      " 1   category      1975 non-null   object\n",
      " 2   reviews       1975 non-null   int64 \n",
      " 3   size          1975 non-null   object\n",
      " 4   installs      1975 non-null   object\n",
      " 5   price         1975 non-null   object\n",
      " 6   suitable_for  1975 non-null   object\n",
      " 7   last_update   1975 non-null   object\n",
      " 8   latest_ver    1971 non-null   object\n",
      " 9   popularity    1975 non-null   object\n",
      "dtypes: int64(2), object(8)\n",
      "memory usage: 154.4+ KB\n"
     ]
    }
   ],
   "source": [
    "app.info()"
   ]
  },
  {
   "cell_type": "code",
   "execution_count": 403,
   "id": "e0d02c1e",
   "metadata": {},
   "outputs": [
    {
     "data": {
      "text/html": [
       "<div>\n",
       "<style scoped>\n",
       "    .dataframe tbody tr th:only-of-type {\n",
       "        vertical-align: middle;\n",
       "    }\n",
       "\n",
       "    .dataframe tbody tr th {\n",
       "        vertical-align: top;\n",
       "    }\n",
       "\n",
       "    .dataframe thead th {\n",
       "        text-align: right;\n",
       "    }\n",
       "</style>\n",
       "<table border=\"1\" class=\"dataframe\">\n",
       "  <thead>\n",
       "    <tr style=\"text-align: right;\">\n",
       "      <th></th>\n",
       "      <th>app_id</th>\n",
       "      <th>reviews</th>\n",
       "    </tr>\n",
       "  </thead>\n",
       "  <tbody>\n",
       "    <tr>\n",
       "      <th>count</th>\n",
       "      <td>1975.000000</td>\n",
       "      <td>1.975000e+03</td>\n",
       "    </tr>\n",
       "    <tr>\n",
       "      <th>mean</th>\n",
       "      <td>490685.787342</td>\n",
       "      <td>1.988162e+05</td>\n",
       "    </tr>\n",
       "    <tr>\n",
       "      <th>std</th>\n",
       "      <td>288098.937034</td>\n",
       "      <td>1.494091e+06</td>\n",
       "    </tr>\n",
       "    <tr>\n",
       "      <th>min</th>\n",
       "      <td>1160.000000</td>\n",
       "      <td>1.000000e+00</td>\n",
       "    </tr>\n",
       "    <tr>\n",
       "      <th>25%</th>\n",
       "      <td>239249.500000</td>\n",
       "      <td>3.300000e+01</td>\n",
       "    </tr>\n",
       "    <tr>\n",
       "      <th>50%</th>\n",
       "      <td>481867.000000</td>\n",
       "      <td>5.160000e+02</td>\n",
       "    </tr>\n",
       "    <tr>\n",
       "      <th>75%</th>\n",
       "      <td>737373.500000</td>\n",
       "      <td>1.912200e+04</td>\n",
       "    </tr>\n",
       "    <tr>\n",
       "      <th>max</th>\n",
       "      <td>999218.000000</td>\n",
       "      <td>4.489172e+07</td>\n",
       "    </tr>\n",
       "  </tbody>\n",
       "</table>\n",
       "</div>"
      ],
      "text/plain": [
       "              app_id       reviews\n",
       "count    1975.000000  1.975000e+03\n",
       "mean   490685.787342  1.988162e+05\n",
       "std    288098.937034  1.494091e+06\n",
       "min      1160.000000  1.000000e+00\n",
       "25%    239249.500000  3.300000e+01\n",
       "50%    481867.000000  5.160000e+02\n",
       "75%    737373.500000  1.912200e+04\n",
       "max    999218.000000  4.489172e+07"
      ]
     },
     "execution_count": 403,
     "metadata": {},
     "output_type": "execute_result"
    }
   ],
   "source": [
    "app.describe()"
   ]
  },
  {
   "cell_type": "code",
   "execution_count": null,
   "id": "a69f096d",
   "metadata": {},
   "outputs": [],
   "source": []
  },
  {
   "cell_type": "code",
   "execution_count": null,
   "id": "6df908a6",
   "metadata": {},
   "outputs": [],
   "source": []
  },
  {
   "cell_type": "code",
   "execution_count": 404,
   "id": "e2b21ccf",
   "metadata": {},
   "outputs": [
    {
     "data": {
      "application/vnd.plotly.v1+json": {
       "config": {
        "linkText": "Export to plot.ly",
        "plotlyServerURL": "https://plot.ly",
        "showLink": true
       },
       "data": [
        {
         "histfunc": "count",
         "histnorm": "",
         "marker": {
          "color": "rgba(0, 128, 0, 1.0)",
          "line": {
           "color": "#4D5663",
           "width": 1.3
          }
         },
         "name": "popularity",
         "opacity": 0.8,
         "orientation": "v",
         "type": "histogram",
         "x": [
          "High",
          "High",
          "High",
          "High",
          "High",
          "High",
          "High",
          "Low",
          "Low",
          "High",
          "High",
          "Low",
          "Low",
          "Low",
          "High",
          "High",
          "High",
          "Low",
          "High",
          "High",
          "Low",
          "High",
          "High",
          "High",
          "High",
          "Low",
          "High",
          "High",
          "Low",
          "High",
          "High",
          "High",
          "High",
          "High",
          "Low",
          "High",
          "High",
          "High",
          "High",
          "High",
          "Low",
          "High",
          "High",
          "High",
          "High",
          "High",
          "High",
          "High",
          "High",
          "High",
          "High",
          "Low",
          "High",
          "Low",
          "Low",
          "High",
          "High",
          "High",
          "High",
          "High",
          "Low",
          "High",
          "High",
          "Low",
          "High",
          "High",
          "High",
          "Low",
          "High",
          "High",
          "High",
          "Low",
          "High",
          "High",
          "Low",
          "Low",
          "Low",
          "Low",
          "High",
          "High",
          "Low",
          "High",
          "High",
          "Low",
          "High",
          "High",
          "Low",
          "High",
          "High",
          "High",
          "High",
          "High",
          "High",
          "High",
          "High",
          "High",
          "Low",
          "High",
          "Low",
          "High",
          "High",
          "High",
          "Low",
          "High",
          "High",
          "High",
          "High",
          "High",
          "High",
          "High",
          "High",
          "High",
          "High",
          "Low",
          "Low",
          "High",
          "High",
          "High",
          "High",
          "High",
          "High",
          "High",
          "Low",
          "High",
          "Low",
          "High",
          "Low",
          "High",
          "High",
          "High",
          "High",
          "High",
          "Low",
          "High",
          "Low",
          "High",
          "Low",
          "High",
          "High",
          "High",
          "High",
          "High",
          "Low",
          "High",
          "High",
          "High",
          "Low",
          "High",
          "High",
          "High",
          "High",
          "High",
          "High",
          "High",
          "Low",
          "High",
          "High",
          "Low",
          "High",
          "High",
          "High",
          "High",
          "High",
          "Low",
          "High",
          "High",
          "High",
          "High",
          "Low",
          "High",
          "Low",
          "High",
          "High",
          "Low",
          "High",
          "High",
          "Low",
          "High",
          "Low",
          "Low",
          "High",
          "High",
          "High",
          "High",
          "High",
          "High",
          "Low",
          "Low",
          "High",
          "High",
          "High",
          "Low",
          "High",
          "High",
          "High",
          "Low",
          "High",
          "Low",
          "Low",
          "High",
          "Low",
          "High",
          "High",
          "Low",
          "High",
          "High",
          "High",
          "High",
          "High",
          "Low",
          "High",
          "High",
          "High",
          "Low",
          "High",
          "High",
          "Low",
          "Low",
          "High",
          "High",
          "Low",
          "High",
          "Low",
          "High",
          "High",
          "High",
          "High",
          "High",
          "High",
          "High",
          "High",
          "High",
          "Low",
          "High",
          "Low",
          "High",
          "High",
          "Low",
          "Low",
          "High",
          "High",
          "Low",
          "High",
          "Low",
          "High",
          "Low",
          "Low",
          "High",
          "High",
          "Low",
          "High",
          "High",
          "High",
          "High",
          "High",
          "High",
          "High",
          "High",
          "High",
          "High",
          "High",
          "High",
          "Low",
          "High",
          "High",
          "High",
          "High",
          "High",
          "High",
          "High",
          "High",
          "High",
          "High",
          "Low",
          "High",
          "High",
          "Low",
          "High",
          "High",
          "High",
          "High",
          "High",
          "High",
          "High",
          "High",
          "High",
          "High",
          "Low",
          "High",
          "High",
          "Low",
          "High",
          "High",
          "High",
          "High",
          "High",
          "High",
          "High",
          "High",
          "High",
          "High",
          "Low",
          "Low",
          "Low",
          "High",
          "High",
          "High",
          "High",
          "Low",
          "High",
          "High",
          "High",
          "Low",
          "High",
          "Low",
          "High",
          "High",
          "High",
          "High",
          "High",
          "High",
          "High",
          "High",
          "High",
          "High",
          "High",
          "Low",
          "High",
          "High",
          "Low",
          "High",
          "High",
          "High",
          "High",
          "Low",
          "High",
          "Low",
          "Low",
          "High",
          "Low",
          "High",
          "Low",
          "Low",
          "High",
          "High",
          "High",
          "High",
          "Low",
          "High",
          "High",
          "High",
          "High",
          "High",
          "High",
          "High",
          "High",
          "High",
          "Low",
          "High",
          "High",
          "High",
          "Low",
          "High",
          "High",
          "High",
          "High",
          "Low",
          "High",
          "Low",
          "High",
          "High",
          "High",
          "High",
          "Low",
          "High",
          "High",
          "High",
          "High",
          "High",
          "High",
          "High",
          "Low",
          "High",
          "High",
          "High",
          "High",
          "High",
          "High",
          "High",
          "High",
          "High",
          "High",
          "Low",
          "Low",
          "High",
          "High",
          "High",
          "Low",
          "High",
          "High",
          "High",
          "High",
          "Low",
          "High",
          "Low",
          "High",
          "High",
          "High",
          "Low",
          "High",
          "Low",
          "High",
          "High",
          "High",
          "High",
          "Low",
          "High",
          "High",
          "High",
          "High",
          "High",
          "Low",
          "High",
          "High",
          "High",
          "Low",
          "High",
          "High",
          "High",
          "High",
          "High",
          "High",
          "High",
          "High",
          "High",
          "Low",
          "High",
          "High",
          "Low",
          "Low",
          "High",
          "High",
          "High",
          "High",
          "Low",
          "Low",
          "Low",
          "Low",
          "Low",
          "High",
          "Low",
          "High",
          "Low",
          "High",
          "High",
          "High",
          "High",
          "High",
          "High",
          "High",
          "High",
          "High",
          "Low",
          "High",
          "High",
          "High",
          "Low",
          "High",
          "Low",
          "Low",
          "High",
          "High",
          "Low",
          "High",
          "High",
          "High",
          "High",
          "High",
          "High",
          "High",
          "High",
          "High",
          "High",
          "High",
          "High",
          "High",
          "Low",
          "High",
          "Low",
          "High",
          "High",
          "Low",
          "Low",
          "High",
          "Low",
          "High",
          "High",
          "Low",
          "Low",
          "High",
          "Low",
          "High",
          "High",
          "Low",
          "High",
          "High",
          "Low",
          "Low",
          "Low",
          "High",
          "High",
          "High",
          "High",
          "High",
          "High",
          "High",
          "High",
          "High",
          "Low",
          "High",
          "High",
          "High",
          "Low",
          "High",
          "High",
          "Low",
          "High",
          "High",
          "High",
          "High",
          "High",
          "Low",
          "High",
          "High",
          "High",
          "Low",
          "High",
          "Low",
          "Low",
          "High",
          "High",
          "High",
          "High",
          "High",
          "Low",
          "Low",
          "Low",
          "High",
          "Low",
          "High",
          "Low",
          "Low",
          "Low",
          "Low",
          "High",
          "High",
          "High",
          "High",
          "High",
          "Low",
          "Low",
          "High",
          "Low",
          "High",
          "High",
          "Low",
          "High",
          "Low",
          "Low",
          "Low",
          "High",
          "High",
          "High",
          "Low",
          "Low",
          "High",
          "Low",
          "Low",
          "High",
          "High",
          "High",
          "Low",
          "High",
          "High",
          "High",
          "Low",
          "Low",
          "Low",
          "High",
          "Low",
          "High",
          "Low",
          "High",
          "High",
          "High",
          "High",
          "High",
          "Low",
          "High",
          "Low",
          "High",
          "High",
          "High",
          "High",
          "High",
          "Low",
          "High",
          "Low",
          "High",
          "High",
          "Low",
          "Low",
          "High",
          "High",
          "Low",
          "Low",
          "High",
          "Low",
          "High",
          "Low",
          "High",
          "High",
          "High",
          "High",
          "High",
          "High",
          "High",
          "High",
          "Low",
          "High",
          "Low",
          "High",
          "High",
          "High",
          "High",
          "High",
          "High",
          "High",
          "Low",
          "High",
          "High",
          "High",
          "High",
          "Low",
          "High",
          "Low",
          "High",
          "High",
          "High",
          "High",
          "High",
          "High",
          "High",
          "High",
          "High",
          "High",
          "High",
          "High",
          "High",
          "High",
          "High",
          "Low",
          "Low",
          "High",
          "Low",
          "Low",
          "High",
          "Low",
          "High",
          "High",
          "Low",
          "High",
          "High",
          "High",
          "High",
          "High",
          "High",
          "High",
          "Low",
          "High",
          "High",
          "High",
          "High",
          "Low",
          "High",
          "Low",
          "High",
          "High",
          "Low",
          "High",
          "Low",
          "High",
          "High",
          "High",
          "High",
          "High",
          "High",
          "High",
          "Low",
          "High",
          "High",
          "High",
          "Low",
          "High",
          "High",
          "High",
          "High",
          "High",
          "Low",
          "High",
          "High",
          "High",
          "High",
          "High",
          "Low",
          "High",
          "High",
          "Low",
          "High",
          "High",
          "High",
          "Low",
          "Low",
          "High",
          "Low",
          "Low",
          "High",
          "Low",
          "High",
          "High",
          "High",
          "High",
          "Low",
          "Low",
          "High",
          "High",
          "High",
          "High",
          "High",
          "High",
          "High",
          "High",
          "High",
          "High",
          "Low",
          "High",
          "High",
          "High",
          "High",
          "Low",
          "Low",
          "High",
          "High",
          "Low",
          "High",
          "High",
          "High",
          "High",
          "Low",
          "High",
          "High",
          "High",
          "High",
          "High",
          "High",
          "High",
          "High",
          "Low",
          "High",
          "High",
          "Low",
          "Low",
          "High",
          "High",
          "High",
          "Low",
          "High",
          "High",
          "Low",
          "High",
          "High",
          "High",
          "High",
          "High",
          "High",
          "High",
          "Low",
          "Low",
          "High",
          "Low",
          "Low",
          "High",
          "High",
          "High",
          "High",
          "Low",
          "High",
          "Low",
          "High",
          "High",
          "Low",
          "High",
          "High",
          "High",
          "High",
          "Low",
          "High",
          "High",
          "High",
          "High",
          "Low",
          "High",
          "High",
          "High",
          "Low",
          "High",
          "High",
          "High",
          "High",
          "Low",
          "Low",
          "High",
          "High",
          "High",
          "Low",
          "High",
          "High",
          "High",
          "Low",
          "Low",
          "High",
          "Low",
          "High",
          "Low",
          "Low",
          "High",
          "High",
          "High",
          "High",
          "High",
          "High",
          "High",
          "High",
          "High",
          "High",
          "High",
          "High",
          "High",
          "High",
          "High",
          "Low",
          "High",
          "High",
          "High",
          "High",
          "Low",
          "Low",
          "High",
          "Low",
          "High",
          "High",
          "Low",
          "High",
          "High",
          "High",
          "Low",
          "High",
          "Low",
          "High",
          "High",
          "Low",
          "High",
          "High",
          "High",
          "High",
          "High",
          "High",
          "High",
          "High",
          "Low",
          "High",
          "High",
          "High",
          "Low",
          "High",
          "Low",
          "High",
          "High",
          "High",
          "High",
          "High",
          "Low",
          "High",
          "High",
          "Low",
          "High",
          "High",
          "High",
          "Low",
          "High",
          "High",
          "Low",
          "High",
          "Low",
          "High",
          "High",
          "High",
          "High",
          "High",
          "Low",
          "High",
          "High",
          "Low",
          "Low",
          "High",
          "Low",
          "High",
          "Low",
          "Low",
          "High",
          "High",
          "High",
          "High",
          "High",
          "High",
          "High",
          "High",
          "High",
          "High",
          "High",
          "High",
          "Low",
          "High",
          "High",
          "High",
          "High",
          "High",
          "High",
          "High",
          "High",
          "High",
          "High",
          "High",
          "High",
          "High",
          "High",
          "Low",
          "High",
          "High",
          "High",
          "High",
          "Low",
          "High",
          "High",
          "High",
          "High",
          "Low",
          "High",
          "Low",
          "High",
          "Low",
          "Low",
          "High",
          "High",
          "High",
          "High",
          "High",
          "Low",
          "High",
          "Low",
          "High",
          "High",
          "High",
          "Low",
          "High",
          "High",
          "Low",
          "Low",
          "High",
          "High",
          "High",
          "High",
          "High",
          "Low",
          "High",
          "High",
          "High",
          "High",
          "High",
          "Low",
          "High",
          "High",
          "Low",
          "High",
          "High",
          "Low",
          "High",
          "High",
          "High",
          "High",
          "High",
          "Low",
          "High",
          "Low",
          "High",
          "High",
          "Low",
          "High",
          "Low",
          "High",
          "High",
          "Low",
          "High",
          "High",
          "Low",
          "High",
          "High",
          "High",
          "Low",
          "High",
          "Low",
          "Low",
          "Low",
          "High",
          "High",
          "Low",
          "High",
          "High",
          "High",
          "High",
          "High",
          "High",
          "High",
          "Low",
          "High",
          "High",
          "Low",
          "Low",
          "High",
          "High",
          "High",
          "High",
          "High",
          "High",
          "High",
          "High",
          "High",
          "High",
          "High",
          "High",
          "High",
          "High",
          "High",
          "Low",
          "High",
          "High",
          "Low",
          "High",
          "High",
          "High",
          "High",
          "High",
          "High",
          "High",
          "High",
          "Low",
          "High",
          "High",
          "High",
          "Low",
          "Low",
          "High",
          "Low",
          "Low",
          "High",
          "Low",
          "High",
          "High",
          "Low",
          "High",
          "Low",
          "Low",
          "High",
          "High",
          "Low",
          "High",
          "High",
          "Low",
          "Low",
          "Low",
          "High",
          "High",
          "Low",
          "Low",
          "Low",
          "High",
          "High",
          "Low",
          "Low",
          "Low",
          "Low",
          "High",
          "Low",
          "High",
          "High",
          "High",
          "High",
          "High",
          "Low",
          "High",
          "High",
          "High",
          "Low",
          "Low",
          "Low",
          "High",
          "High",
          "High",
          "High",
          "Low",
          "Low",
          "High",
          "High",
          "High",
          "High",
          "High",
          "High",
          "High",
          "Low",
          "High",
          "Low",
          "High",
          "High",
          "Low",
          "High",
          "Low",
          "High",
          "High",
          "Low",
          "High",
          "High",
          "Low",
          "High",
          "High",
          "High",
          "High",
          "High",
          "High",
          "High",
          "High",
          "Low",
          "High",
          "High",
          "High",
          "High",
          "High",
          "High",
          "High",
          "Low",
          "High",
          "High",
          "Low",
          "Low",
          "High",
          "High",
          "Low",
          "High",
          "High",
          "High",
          "High",
          "High",
          "High",
          "High",
          "Low",
          "High",
          "High",
          "High",
          "Low",
          "High",
          "High",
          "Low",
          "High",
          "High",
          "High",
          "High",
          "Low",
          "Low",
          "High",
          "Low",
          "High",
          "High",
          "High",
          "Low",
          "High",
          "Low",
          "High",
          "Low",
          "High",
          "Low",
          "High",
          "High",
          "Low",
          "High",
          "Low",
          "High",
          "High",
          "High",
          "High",
          "High",
          "High",
          "High",
          "High",
          "High",
          "Low",
          "Low",
          "High",
          "High",
          "Low",
          "High",
          "High",
          "High",
          "Low",
          "High",
          "High",
          "High",
          "High",
          "Low",
          "High",
          "Low",
          "Low",
          "High",
          "High",
          "Low",
          "High",
          "Low",
          "High",
          "High",
          "High",
          "High",
          "High",
          "Low",
          "Low",
          "Low",
          "High",
          "High",
          "High",
          "High",
          "High",
          "High",
          "High",
          "High",
          "High",
          "High",
          "Low",
          "High",
          "High",
          "High",
          "High",
          "Low",
          "High",
          "High",
          "High",
          "Low",
          "Low",
          "Low",
          "Low",
          "High",
          "High",
          "High",
          "Low",
          "Low",
          "High",
          "High",
          "High",
          "High",
          "High",
          "High",
          "High",
          "Low",
          "High",
          "High",
          "High",
          "High",
          "High",
          "Low",
          "High",
          "High",
          "High",
          "Low",
          "High",
          "High",
          "Low",
          "High",
          "High",
          "High",
          "High",
          "High",
          "High",
          "High",
          "High",
          "High",
          "Low",
          "High",
          "Low",
          "Low",
          "High",
          "Low",
          "High",
          "High",
          "High",
          "High",
          "Low",
          "Low",
          "High",
          "Low",
          "High",
          "Low",
          "Low",
          "High",
          "High",
          "High",
          "High",
          "Low",
          "High",
          "High",
          "High",
          "High",
          "Low",
          "High",
          "High",
          "High",
          "High",
          "High",
          "High",
          "High",
          "Low",
          "High",
          "High",
          "High",
          "High",
          "High",
          "High",
          "High",
          "Low",
          "High",
          "High",
          "High",
          "High",
          "High",
          "Low",
          "High",
          "High",
          "High",
          "High",
          "Low",
          "High",
          "High",
          "High",
          "High",
          "Low",
          "Low",
          "High",
          "High",
          "High",
          "High",
          "High",
          "Low",
          "Low",
          "High",
          "High",
          "High",
          "High",
          "High",
          "Low",
          "Low",
          "Low",
          "High",
          "High",
          "High",
          "High",
          "High",
          "Low",
          "High",
          "High",
          "High",
          "High",
          "High",
          "High",
          "Low",
          "High",
          "High",
          "High",
          "Low",
          "High",
          "High",
          "High",
          "High",
          "Low",
          "High",
          "Low",
          "High",
          "High",
          "Low",
          "High",
          "High",
          "High",
          "High",
          "Low",
          "Low",
          "High",
          "High",
          "Low",
          "High",
          "High",
          "High",
          "High",
          "High",
          "High",
          "High",
          "High",
          "High",
          "Low",
          "Low",
          "Low",
          "High",
          "High",
          "Low",
          "High",
          "High",
          "High",
          "High",
          "High",
          "High",
          "Low",
          "High",
          "High",
          "High",
          "High",
          "High",
          "High",
          "High",
          "High",
          "Low",
          "High",
          "Low",
          "High",
          "High",
          "High",
          "High",
          "High",
          "High",
          "High",
          "High",
          "High",
          "High",
          "High",
          "High",
          "High",
          "Low",
          "High",
          "High",
          "High",
          "High",
          "High",
          "High",
          "High",
          "Low",
          "High",
          "High",
          "Low",
          "High",
          "High",
          "High",
          "High",
          "High",
          "High",
          "High",
          "High",
          "High",
          "Low",
          "High",
          "High",
          "High",
          "High",
          "High",
          "High",
          "High",
          "High",
          "High",
          "High",
          "High",
          "High",
          "Low",
          "High",
          "High",
          "High",
          "High",
          "Low",
          "High",
          "Low",
          "High",
          "High",
          "High",
          "High",
          "High",
          "Low",
          "High",
          "High",
          "Low",
          "High",
          "High",
          "Low",
          "High",
          "Low",
          "Low",
          "High",
          "High",
          "Low",
          "High",
          "High",
          "High",
          "High",
          "High",
          "High",
          "High",
          "High",
          "High",
          "High",
          "High",
          "High",
          "Low",
          "High",
          "High",
          "High",
          "Low",
          "Low",
          "High",
          "High",
          "Low",
          "Low",
          "High",
          "High",
          "Low",
          "Low",
          "Low",
          "High",
          "High",
          "High",
          "High",
          "High",
          "High",
          "High",
          "High",
          "High",
          "High",
          "High",
          "Low",
          "High",
          "High",
          "High",
          "High",
          "High",
          "High",
          "Low",
          "High",
          "Low",
          "High",
          "High",
          "High",
          "High",
          "High",
          "High",
          "High",
          "High",
          "Low",
          "High",
          "High",
          "High",
          "High",
          "High",
          "High",
          "Low",
          "Low",
          "Low",
          "High",
          "High",
          "High",
          "High",
          "High",
          "High",
          "High",
          "High",
          "High",
          "Low",
          "High",
          "High",
          "High",
          "High",
          "High",
          "High",
          "High",
          "High",
          "Low",
          "High",
          "Low",
          "High",
          "Low",
          "High",
          "High",
          "High",
          "Low",
          "High",
          "High",
          "High",
          "High",
          "High",
          "High",
          "High",
          "High",
          "Low",
          "Low",
          "High",
          "High",
          "High",
          "High",
          "Low",
          "High",
          "High",
          "High",
          "High",
          "Low",
          "High",
          "High",
          "High",
          "High",
          "High",
          "Low",
          "High",
          "High",
          "Low",
          "High",
          "High",
          "High",
          "High",
          "Low",
          "High",
          "High",
          "High",
          "Low",
          "Low",
          "High",
          "Low",
          "Low",
          "High",
          "Low",
          "High",
          "High",
          "High",
          "High",
          "High",
          "Low",
          "High",
          "High",
          "High",
          "High",
          "High",
          "High",
          "High",
          "High",
          "High",
          "Low",
          "High",
          "High",
          "High",
          "High",
          "Low",
          "High",
          "High",
          "Low",
          "Low",
          "Low",
          "High",
          "High",
          "Low",
          "High",
          "High",
          "Low",
          "Low",
          "Low",
          "High",
          "High",
          "High",
          "High",
          "High",
          "High",
          "High",
          "High",
          "Low",
          "High",
          "High",
          "High",
          "Low",
          "High",
          "Low",
          "High",
          "High",
          "High",
          "Low",
          "High",
          "Low",
          "Low",
          "High",
          "Low",
          "High",
          "Low",
          "High",
          "High",
          "Low",
          "High",
          "High",
          "Low",
          "Low",
          "Low",
          "High",
          "Low",
          "High",
          "Low",
          "High",
          "High",
          "Low",
          "High",
          "High",
          "High",
          "High",
          "Low",
          "Low",
          "High",
          "High",
          "High",
          "High",
          "Low",
          "High",
          "High",
          "Low",
          "Low",
          "Low",
          "High",
          "High",
          "High",
          "High",
          "High",
          "High",
          "High",
          "High",
          "Low",
          "Low",
          "High",
          "High",
          "High",
          "High",
          "High",
          "High",
          "High",
          "High",
          "High",
          "High",
          "High",
          "Low",
          "Low",
          "High",
          "High",
          "High",
          "High",
          "Low",
          "High",
          "High",
          "High",
          "High",
          "High",
          "High",
          "Low",
          "Low",
          "Low",
          "High",
          "High",
          "High",
          "Low",
          "High",
          "High",
          "Low",
          "High",
          "High",
          "High",
          "High",
          "High",
          "Low",
          "Low",
          "High",
          "High",
          "Low",
          "High",
          "High",
          "High",
          "High",
          "High",
          "Low",
          "Low",
          "High",
          "High",
          "High",
          "High",
          "High",
          "High",
          "Low",
          "Low",
          "High",
          "High",
          "Low",
          "High",
          "High",
          "High",
          "High",
          "High",
          "High",
          "Low",
          "High",
          "Low",
          "Low",
          "High",
          "Low",
          "High",
          "High",
          "Low",
          "High",
          "High",
          "Low",
          "High",
          "High",
          "High",
          "High",
          "Low",
          "Low",
          "High",
          "High",
          "Low",
          "Low",
          "High",
          "High",
          "High",
          "High",
          "High",
          "High",
          "High",
          "High",
          "High",
          "High",
          "High",
          "Low",
          "High",
          "High",
          "High",
          "High",
          "High",
          "High",
          "High",
          "High",
          "High",
          "High",
          "Low",
          "High",
          "High",
          "Low",
          "High",
          "Low",
          "High",
          "High",
          "Low",
          "High",
          "High",
          "High",
          "High",
          "High",
          "High",
          "Low",
          "High",
          "High",
          "Low",
          "High",
          "High",
          "High",
          "High",
          "Low",
          "High",
          "High",
          "High",
          "High",
          "Low",
          "High",
          "High",
          "High",
          "High",
          "High",
          "High",
          "High",
          "Low",
          "High",
          "High",
          "Low",
          "High",
          "High",
          "High",
          "High",
          "Low",
          "Low",
          "High",
          "High",
          "Low",
          "High",
          "High",
          "High",
          "Low",
          "High",
          "High",
          "High",
          "High",
          "High",
          "High",
          "High",
          "High",
          "High",
          "High",
          "Low",
          "Low",
          "Low",
          "High",
          "High",
          "Low",
          "High",
          "High",
          "High",
          "High",
          "High",
          "High",
          "High",
          "High",
          "High",
          "High",
          "High",
          "Low",
          "High",
          "High",
          "High",
          "High",
          "High",
          "Low",
          "Low",
          "High",
          "High",
          "High",
          "High",
          "Low",
          "High",
          "High",
          "High",
          "High",
          "Low",
          "High",
          "High",
          "High",
          "High",
          "High",
          "High",
          "High",
          "High",
          "High"
         ]
        }
       ],
       "layout": {
        "barmode": "overlay",
        "legend": {
         "bgcolor": "#F5F6F9",
         "font": {
          "color": "#4D5663"
         }
        },
        "paper_bgcolor": "#F5F6F9",
        "plot_bgcolor": "#F5F6F9",
        "template": {
         "data": {
          "bar": [
           {
            "error_x": {
             "color": "#2a3f5f"
            },
            "error_y": {
             "color": "#2a3f5f"
            },
            "marker": {
             "line": {
              "color": "#E5ECF6",
              "width": 0.5
             }
            },
            "type": "bar"
           }
          ],
          "barpolar": [
           {
            "marker": {
             "line": {
              "color": "#E5ECF6",
              "width": 0.5
             }
            },
            "type": "barpolar"
           }
          ],
          "carpet": [
           {
            "aaxis": {
             "endlinecolor": "#2a3f5f",
             "gridcolor": "white",
             "linecolor": "white",
             "minorgridcolor": "white",
             "startlinecolor": "#2a3f5f"
            },
            "baxis": {
             "endlinecolor": "#2a3f5f",
             "gridcolor": "white",
             "linecolor": "white",
             "minorgridcolor": "white",
             "startlinecolor": "#2a3f5f"
            },
            "type": "carpet"
           }
          ],
          "choropleth": [
           {
            "colorbar": {
             "outlinewidth": 0,
             "ticks": ""
            },
            "type": "choropleth"
           }
          ],
          "contour": [
           {
            "colorbar": {
             "outlinewidth": 0,
             "ticks": ""
            },
            "colorscale": [
             [
              0,
              "#0d0887"
             ],
             [
              0.1111111111111111,
              "#46039f"
             ],
             [
              0.2222222222222222,
              "#7201a8"
             ],
             [
              0.3333333333333333,
              "#9c179e"
             ],
             [
              0.4444444444444444,
              "#bd3786"
             ],
             [
              0.5555555555555556,
              "#d8576b"
             ],
             [
              0.6666666666666666,
              "#ed7953"
             ],
             [
              0.7777777777777778,
              "#fb9f3a"
             ],
             [
              0.8888888888888888,
              "#fdca26"
             ],
             [
              1,
              "#f0f921"
             ]
            ],
            "type": "contour"
           }
          ],
          "contourcarpet": [
           {
            "colorbar": {
             "outlinewidth": 0,
             "ticks": ""
            },
            "type": "contourcarpet"
           }
          ],
          "heatmap": [
           {
            "colorbar": {
             "outlinewidth": 0,
             "ticks": ""
            },
            "colorscale": [
             [
              0,
              "#0d0887"
             ],
             [
              0.1111111111111111,
              "#46039f"
             ],
             [
              0.2222222222222222,
              "#7201a8"
             ],
             [
              0.3333333333333333,
              "#9c179e"
             ],
             [
              0.4444444444444444,
              "#bd3786"
             ],
             [
              0.5555555555555556,
              "#d8576b"
             ],
             [
              0.6666666666666666,
              "#ed7953"
             ],
             [
              0.7777777777777778,
              "#fb9f3a"
             ],
             [
              0.8888888888888888,
              "#fdca26"
             ],
             [
              1,
              "#f0f921"
             ]
            ],
            "type": "heatmap"
           }
          ],
          "heatmapgl": [
           {
            "colorbar": {
             "outlinewidth": 0,
             "ticks": ""
            },
            "colorscale": [
             [
              0,
              "#0d0887"
             ],
             [
              0.1111111111111111,
              "#46039f"
             ],
             [
              0.2222222222222222,
              "#7201a8"
             ],
             [
              0.3333333333333333,
              "#9c179e"
             ],
             [
              0.4444444444444444,
              "#bd3786"
             ],
             [
              0.5555555555555556,
              "#d8576b"
             ],
             [
              0.6666666666666666,
              "#ed7953"
             ],
             [
              0.7777777777777778,
              "#fb9f3a"
             ],
             [
              0.8888888888888888,
              "#fdca26"
             ],
             [
              1,
              "#f0f921"
             ]
            ],
            "type": "heatmapgl"
           }
          ],
          "histogram": [
           {
            "marker": {
             "colorbar": {
              "outlinewidth": 0,
              "ticks": ""
             }
            },
            "type": "histogram"
           }
          ],
          "histogram2d": [
           {
            "colorbar": {
             "outlinewidth": 0,
             "ticks": ""
            },
            "colorscale": [
             [
              0,
              "#0d0887"
             ],
             [
              0.1111111111111111,
              "#46039f"
             ],
             [
              0.2222222222222222,
              "#7201a8"
             ],
             [
              0.3333333333333333,
              "#9c179e"
             ],
             [
              0.4444444444444444,
              "#bd3786"
             ],
             [
              0.5555555555555556,
              "#d8576b"
             ],
             [
              0.6666666666666666,
              "#ed7953"
             ],
             [
              0.7777777777777778,
              "#fb9f3a"
             ],
             [
              0.8888888888888888,
              "#fdca26"
             ],
             [
              1,
              "#f0f921"
             ]
            ],
            "type": "histogram2d"
           }
          ],
          "histogram2dcontour": [
           {
            "colorbar": {
             "outlinewidth": 0,
             "ticks": ""
            },
            "colorscale": [
             [
              0,
              "#0d0887"
             ],
             [
              0.1111111111111111,
              "#46039f"
             ],
             [
              0.2222222222222222,
              "#7201a8"
             ],
             [
              0.3333333333333333,
              "#9c179e"
             ],
             [
              0.4444444444444444,
              "#bd3786"
             ],
             [
              0.5555555555555556,
              "#d8576b"
             ],
             [
              0.6666666666666666,
              "#ed7953"
             ],
             [
              0.7777777777777778,
              "#fb9f3a"
             ],
             [
              0.8888888888888888,
              "#fdca26"
             ],
             [
              1,
              "#f0f921"
             ]
            ],
            "type": "histogram2dcontour"
           }
          ],
          "mesh3d": [
           {
            "colorbar": {
             "outlinewidth": 0,
             "ticks": ""
            },
            "type": "mesh3d"
           }
          ],
          "parcoords": [
           {
            "line": {
             "colorbar": {
              "outlinewidth": 0,
              "ticks": ""
             }
            },
            "type": "parcoords"
           }
          ],
          "pie": [
           {
            "automargin": true,
            "type": "pie"
           }
          ],
          "scatter": [
           {
            "marker": {
             "colorbar": {
              "outlinewidth": 0,
              "ticks": ""
             }
            },
            "type": "scatter"
           }
          ],
          "scatter3d": [
           {
            "line": {
             "colorbar": {
              "outlinewidth": 0,
              "ticks": ""
             }
            },
            "marker": {
             "colorbar": {
              "outlinewidth": 0,
              "ticks": ""
             }
            },
            "type": "scatter3d"
           }
          ],
          "scattercarpet": [
           {
            "marker": {
             "colorbar": {
              "outlinewidth": 0,
              "ticks": ""
             }
            },
            "type": "scattercarpet"
           }
          ],
          "scattergeo": [
           {
            "marker": {
             "colorbar": {
              "outlinewidth": 0,
              "ticks": ""
             }
            },
            "type": "scattergeo"
           }
          ],
          "scattergl": [
           {
            "marker": {
             "colorbar": {
              "outlinewidth": 0,
              "ticks": ""
             }
            },
            "type": "scattergl"
           }
          ],
          "scattermapbox": [
           {
            "marker": {
             "colorbar": {
              "outlinewidth": 0,
              "ticks": ""
             }
            },
            "type": "scattermapbox"
           }
          ],
          "scatterpolar": [
           {
            "marker": {
             "colorbar": {
              "outlinewidth": 0,
              "ticks": ""
             }
            },
            "type": "scatterpolar"
           }
          ],
          "scatterpolargl": [
           {
            "marker": {
             "colorbar": {
              "outlinewidth": 0,
              "ticks": ""
             }
            },
            "type": "scatterpolargl"
           }
          ],
          "scatterternary": [
           {
            "marker": {
             "colorbar": {
              "outlinewidth": 0,
              "ticks": ""
             }
            },
            "type": "scatterternary"
           }
          ],
          "surface": [
           {
            "colorbar": {
             "outlinewidth": 0,
             "ticks": ""
            },
            "colorscale": [
             [
              0,
              "#0d0887"
             ],
             [
              0.1111111111111111,
              "#46039f"
             ],
             [
              0.2222222222222222,
              "#7201a8"
             ],
             [
              0.3333333333333333,
              "#9c179e"
             ],
             [
              0.4444444444444444,
              "#bd3786"
             ],
             [
              0.5555555555555556,
              "#d8576b"
             ],
             [
              0.6666666666666666,
              "#ed7953"
             ],
             [
              0.7777777777777778,
              "#fb9f3a"
             ],
             [
              0.8888888888888888,
              "#fdca26"
             ],
             [
              1,
              "#f0f921"
             ]
            ],
            "type": "surface"
           }
          ],
          "table": [
           {
            "cells": {
             "fill": {
              "color": "#EBF0F8"
             },
             "line": {
              "color": "white"
             }
            },
            "header": {
             "fill": {
              "color": "#C8D4E3"
             },
             "line": {
              "color": "white"
             }
            },
            "type": "table"
           }
          ]
         },
         "layout": {
          "annotationdefaults": {
           "arrowcolor": "#2a3f5f",
           "arrowhead": 0,
           "arrowwidth": 1
          },
          "autotypenumbers": "strict",
          "coloraxis": {
           "colorbar": {
            "outlinewidth": 0,
            "ticks": ""
           }
          },
          "colorscale": {
           "diverging": [
            [
             0,
             "#8e0152"
            ],
            [
             0.1,
             "#c51b7d"
            ],
            [
             0.2,
             "#de77ae"
            ],
            [
             0.3,
             "#f1b6da"
            ],
            [
             0.4,
             "#fde0ef"
            ],
            [
             0.5,
             "#f7f7f7"
            ],
            [
             0.6,
             "#e6f5d0"
            ],
            [
             0.7,
             "#b8e186"
            ],
            [
             0.8,
             "#7fbc41"
            ],
            [
             0.9,
             "#4d9221"
            ],
            [
             1,
             "#276419"
            ]
           ],
           "sequential": [
            [
             0,
             "#0d0887"
            ],
            [
             0.1111111111111111,
             "#46039f"
            ],
            [
             0.2222222222222222,
             "#7201a8"
            ],
            [
             0.3333333333333333,
             "#9c179e"
            ],
            [
             0.4444444444444444,
             "#bd3786"
            ],
            [
             0.5555555555555556,
             "#d8576b"
            ],
            [
             0.6666666666666666,
             "#ed7953"
            ],
            [
             0.7777777777777778,
             "#fb9f3a"
            ],
            [
             0.8888888888888888,
             "#fdca26"
            ],
            [
             1,
             "#f0f921"
            ]
           ],
           "sequentialminus": [
            [
             0,
             "#0d0887"
            ],
            [
             0.1111111111111111,
             "#46039f"
            ],
            [
             0.2222222222222222,
             "#7201a8"
            ],
            [
             0.3333333333333333,
             "#9c179e"
            ],
            [
             0.4444444444444444,
             "#bd3786"
            ],
            [
             0.5555555555555556,
             "#d8576b"
            ],
            [
             0.6666666666666666,
             "#ed7953"
            ],
            [
             0.7777777777777778,
             "#fb9f3a"
            ],
            [
             0.8888888888888888,
             "#fdca26"
            ],
            [
             1,
             "#f0f921"
            ]
           ]
          },
          "colorway": [
           "#636efa",
           "#EF553B",
           "#00cc96",
           "#ab63fa",
           "#FFA15A",
           "#19d3f3",
           "#FF6692",
           "#B6E880",
           "#FF97FF",
           "#FECB52"
          ],
          "font": {
           "color": "#2a3f5f"
          },
          "geo": {
           "bgcolor": "white",
           "lakecolor": "white",
           "landcolor": "#E5ECF6",
           "showlakes": true,
           "showland": true,
           "subunitcolor": "white"
          },
          "hoverlabel": {
           "align": "left"
          },
          "hovermode": "closest",
          "mapbox": {
           "style": "light"
          },
          "paper_bgcolor": "white",
          "plot_bgcolor": "#E5ECF6",
          "polar": {
           "angularaxis": {
            "gridcolor": "white",
            "linecolor": "white",
            "ticks": ""
           },
           "bgcolor": "#E5ECF6",
           "radialaxis": {
            "gridcolor": "white",
            "linecolor": "white",
            "ticks": ""
           }
          },
          "scene": {
           "xaxis": {
            "backgroundcolor": "#E5ECF6",
            "gridcolor": "white",
            "gridwidth": 2,
            "linecolor": "white",
            "showbackground": true,
            "ticks": "",
            "zerolinecolor": "white"
           },
           "yaxis": {
            "backgroundcolor": "#E5ECF6",
            "gridcolor": "white",
            "gridwidth": 2,
            "linecolor": "white",
            "showbackground": true,
            "ticks": "",
            "zerolinecolor": "white"
           },
           "zaxis": {
            "backgroundcolor": "#E5ECF6",
            "gridcolor": "white",
            "gridwidth": 2,
            "linecolor": "white",
            "showbackground": true,
            "ticks": "",
            "zerolinecolor": "white"
           }
          },
          "shapedefaults": {
           "line": {
            "color": "#2a3f5f"
           }
          },
          "ternary": {
           "aaxis": {
            "gridcolor": "white",
            "linecolor": "white",
            "ticks": ""
           },
           "baxis": {
            "gridcolor": "white",
            "linecolor": "white",
            "ticks": ""
           },
           "bgcolor": "#E5ECF6",
           "caxis": {
            "gridcolor": "white",
            "linecolor": "white",
            "ticks": ""
           }
          },
          "title": {
           "x": 0.05
          },
          "xaxis": {
           "automargin": true,
           "gridcolor": "white",
           "linecolor": "white",
           "ticks": "",
           "title": {
            "standoff": 15
           },
           "zerolinecolor": "white",
           "zerolinewidth": 2
          },
          "yaxis": {
           "automargin": true,
           "gridcolor": "white",
           "linecolor": "white",
           "ticks": "",
           "title": {
            "standoff": 15
           },
           "zerolinecolor": "white",
           "zerolinewidth": 2
          }
         }
        },
        "title": {
         "font": {
          "color": "#4D5663"
         },
         "text": "Popularity of the App"
        },
        "xaxis": {
         "gridcolor": "#E1E5ED",
         "showgrid": true,
         "tickfont": {
          "color": "#4D5663"
         },
         "title": {
          "font": {
           "color": "#4D5663"
          },
          "text": "popularity"
         },
         "zerolinecolor": "#E1E5ED"
        },
        "yaxis": {
         "gridcolor": "#E1E5ED",
         "showgrid": true,
         "tickfont": {
          "color": "#4D5663"
         },
         "title": {
          "font": {
           "color": "#4D5663"
          },
          "text": "Count"
         },
         "zerolinecolor": "#E1E5ED"
        }
       }
      },
      "text/html": [
       "<div>                            <div id=\"d0f3e5e4-e760-44e6-a084-3dc87441a508\" class=\"plotly-graph-div\" style=\"height:525px; width:100%;\"></div>            <script type=\"text/javascript\">                require([\"plotly\"], function(Plotly) {                    window.PLOTLYENV=window.PLOTLYENV || {};\n",
       "                    window.PLOTLYENV.BASE_URL='https://plot.ly';                                    if (document.getElementById(\"d0f3e5e4-e760-44e6-a084-3dc87441a508\")) {                    Plotly.newPlot(                        \"d0f3e5e4-e760-44e6-a084-3dc87441a508\",                        [{\"histfunc\": \"count\", \"histnorm\": \"\", \"marker\": {\"color\": \"rgba(0, 128, 0, 1.0)\", \"line\": {\"color\": \"#4D5663\", \"width\": 1.3}}, \"name\": \"popularity\", \"opacity\": 0.8, \"orientation\": \"v\", \"type\": \"histogram\", \"x\": [\"High\", \"High\", \"High\", \"High\", \"High\", \"High\", \"High\", \"Low\", \"Low\", \"High\", \"High\", \"Low\", \"Low\", \"Low\", \"High\", \"High\", \"High\", \"Low\", \"High\", \"High\", \"Low\", \"High\", \"High\", \"High\", \"High\", \"Low\", \"High\", \"High\", \"Low\", \"High\", \"High\", \"High\", \"High\", \"High\", \"Low\", \"High\", \"High\", \"High\", \"High\", \"High\", \"Low\", \"High\", \"High\", \"High\", \"High\", \"High\", \"High\", \"High\", \"High\", \"High\", \"High\", \"Low\", \"High\", \"Low\", \"Low\", \"High\", \"High\", \"High\", \"High\", \"High\", \"Low\", \"High\", \"High\", \"Low\", \"High\", \"High\", \"High\", \"Low\", \"High\", \"High\", \"High\", \"Low\", \"High\", \"High\", \"Low\", \"Low\", \"Low\", \"Low\", \"High\", \"High\", \"Low\", \"High\", \"High\", \"Low\", \"High\", \"High\", \"Low\", \"High\", \"High\", \"High\", \"High\", \"High\", \"High\", \"High\", \"High\", \"High\", \"Low\", \"High\", \"Low\", \"High\", \"High\", \"High\", \"Low\", \"High\", \"High\", \"High\", \"High\", \"High\", \"High\", \"High\", \"High\", \"High\", \"High\", \"Low\", \"Low\", \"High\", \"High\", \"High\", \"High\", \"High\", \"High\", \"High\", \"Low\", \"High\", \"Low\", \"High\", \"Low\", \"High\", \"High\", \"High\", \"High\", \"High\", \"Low\", \"High\", \"Low\", \"High\", \"Low\", \"High\", \"High\", \"High\", \"High\", \"High\", \"Low\", \"High\", \"High\", \"High\", \"Low\", \"High\", \"High\", \"High\", \"High\", \"High\", \"High\", \"High\", \"Low\", \"High\", \"High\", \"Low\", \"High\", \"High\", \"High\", \"High\", \"High\", \"Low\", \"High\", \"High\", \"High\", \"High\", \"Low\", \"High\", \"Low\", \"High\", \"High\", \"Low\", \"High\", \"High\", \"Low\", \"High\", \"Low\", \"Low\", \"High\", \"High\", \"High\", \"High\", \"High\", \"High\", \"Low\", \"Low\", \"High\", \"High\", \"High\", \"Low\", \"High\", \"High\", \"High\", \"Low\", \"High\", \"Low\", \"Low\", \"High\", \"Low\", \"High\", \"High\", \"Low\", \"High\", \"High\", \"High\", \"High\", \"High\", \"Low\", \"High\", \"High\", \"High\", \"Low\", \"High\", \"High\", \"Low\", \"Low\", \"High\", \"High\", \"Low\", \"High\", \"Low\", \"High\", \"High\", \"High\", \"High\", \"High\", \"High\", \"High\", \"High\", \"High\", \"Low\", \"High\", \"Low\", \"High\", \"High\", \"Low\", \"Low\", \"High\", \"High\", \"Low\", \"High\", \"Low\", \"High\", \"Low\", \"Low\", \"High\", \"High\", \"Low\", \"High\", \"High\", \"High\", \"High\", \"High\", \"High\", \"High\", \"High\", \"High\", \"High\", \"High\", \"High\", \"Low\", \"High\", \"High\", \"High\", \"High\", \"High\", \"High\", \"High\", \"High\", \"High\", \"High\", \"Low\", \"High\", \"High\", \"Low\", \"High\", \"High\", \"High\", \"High\", \"High\", \"High\", \"High\", \"High\", \"High\", \"High\", \"Low\", \"High\", \"High\", \"Low\", \"High\", \"High\", \"High\", \"High\", \"High\", \"High\", \"High\", \"High\", \"High\", \"High\", \"Low\", \"Low\", \"Low\", \"High\", \"High\", \"High\", \"High\", \"Low\", \"High\", \"High\", \"High\", \"Low\", \"High\", \"Low\", \"High\", \"High\", \"High\", \"High\", \"High\", \"High\", \"High\", \"High\", \"High\", \"High\", \"High\", \"Low\", \"High\", \"High\", \"Low\", \"High\", \"High\", \"High\", \"High\", \"Low\", \"High\", \"Low\", \"Low\", \"High\", \"Low\", \"High\", \"Low\", \"Low\", \"High\", \"High\", \"High\", \"High\", \"Low\", \"High\", \"High\", \"High\", \"High\", \"High\", \"High\", \"High\", \"High\", \"High\", \"Low\", \"High\", \"High\", \"High\", \"Low\", \"High\", \"High\", \"High\", \"High\", \"Low\", \"High\", \"Low\", \"High\", \"High\", \"High\", \"High\", \"Low\", \"High\", \"High\", \"High\", \"High\", \"High\", \"High\", \"High\", \"Low\", \"High\", \"High\", \"High\", \"High\", \"High\", \"High\", \"High\", \"High\", \"High\", \"High\", \"Low\", \"Low\", \"High\", \"High\", \"High\", \"Low\", \"High\", \"High\", \"High\", \"High\", \"Low\", \"High\", \"Low\", \"High\", \"High\", \"High\", \"Low\", \"High\", \"Low\", \"High\", \"High\", \"High\", \"High\", \"Low\", \"High\", \"High\", \"High\", \"High\", \"High\", \"Low\", \"High\", \"High\", \"High\", \"Low\", \"High\", \"High\", \"High\", \"High\", \"High\", \"High\", \"High\", \"High\", \"High\", \"Low\", \"High\", \"High\", \"Low\", \"Low\", \"High\", \"High\", \"High\", \"High\", \"Low\", \"Low\", \"Low\", \"Low\", \"Low\", \"High\", \"Low\", \"High\", \"Low\", \"High\", \"High\", \"High\", \"High\", \"High\", \"High\", \"High\", \"High\", \"High\", \"Low\", \"High\", \"High\", \"High\", \"Low\", \"High\", \"Low\", \"Low\", \"High\", \"High\", \"Low\", \"High\", \"High\", \"High\", \"High\", \"High\", \"High\", \"High\", \"High\", \"High\", \"High\", \"High\", \"High\", \"High\", \"Low\", \"High\", \"Low\", \"High\", \"High\", \"Low\", \"Low\", \"High\", \"Low\", \"High\", \"High\", \"Low\", \"Low\", \"High\", \"Low\", \"High\", \"High\", \"Low\", \"High\", \"High\", \"Low\", \"Low\", \"Low\", \"High\", \"High\", \"High\", \"High\", \"High\", \"High\", \"High\", \"High\", \"High\", \"Low\", \"High\", \"High\", \"High\", \"Low\", \"High\", \"High\", \"Low\", \"High\", \"High\", \"High\", \"High\", \"High\", \"Low\", \"High\", \"High\", \"High\", \"Low\", \"High\", \"Low\", \"Low\", \"High\", \"High\", \"High\", \"High\", \"High\", \"Low\", \"Low\", \"Low\", \"High\", \"Low\", \"High\", \"Low\", \"Low\", \"Low\", \"Low\", \"High\", \"High\", \"High\", \"High\", \"High\", \"Low\", \"Low\", \"High\", \"Low\", \"High\", \"High\", \"Low\", \"High\", \"Low\", \"Low\", \"Low\", \"High\", \"High\", \"High\", \"Low\", \"Low\", \"High\", \"Low\", \"Low\", \"High\", \"High\", \"High\", \"Low\", \"High\", \"High\", \"High\", \"Low\", \"Low\", \"Low\", \"High\", \"Low\", \"High\", \"Low\", \"High\", \"High\", \"High\", \"High\", \"High\", \"Low\", \"High\", \"Low\", \"High\", \"High\", \"High\", \"High\", \"High\", \"Low\", \"High\", \"Low\", \"High\", \"High\", \"Low\", \"Low\", \"High\", \"High\", \"Low\", \"Low\", \"High\", \"Low\", \"High\", \"Low\", \"High\", \"High\", \"High\", \"High\", \"High\", \"High\", \"High\", \"High\", \"Low\", \"High\", \"Low\", \"High\", \"High\", \"High\", \"High\", \"High\", \"High\", \"High\", \"Low\", \"High\", \"High\", \"High\", \"High\", \"Low\", \"High\", \"Low\", \"High\", \"High\", \"High\", \"High\", \"High\", \"High\", \"High\", \"High\", \"High\", \"High\", \"High\", \"High\", \"High\", \"High\", \"High\", \"Low\", \"Low\", \"High\", \"Low\", \"Low\", \"High\", \"Low\", \"High\", \"High\", \"Low\", \"High\", \"High\", \"High\", \"High\", \"High\", \"High\", \"High\", \"Low\", \"High\", \"High\", \"High\", \"High\", \"Low\", \"High\", \"Low\", \"High\", \"High\", \"Low\", \"High\", \"Low\", \"High\", \"High\", \"High\", \"High\", \"High\", \"High\", \"High\", \"Low\", \"High\", \"High\", \"High\", \"Low\", \"High\", \"High\", \"High\", \"High\", \"High\", \"Low\", \"High\", \"High\", \"High\", \"High\", \"High\", \"Low\", \"High\", \"High\", \"Low\", \"High\", \"High\", \"High\", \"Low\", \"Low\", \"High\", \"Low\", \"Low\", \"High\", \"Low\", \"High\", \"High\", \"High\", \"High\", \"Low\", \"Low\", \"High\", \"High\", \"High\", \"High\", \"High\", \"High\", \"High\", \"High\", \"High\", \"High\", \"Low\", \"High\", \"High\", \"High\", \"High\", \"Low\", \"Low\", \"High\", \"High\", \"Low\", \"High\", \"High\", \"High\", \"High\", \"Low\", \"High\", \"High\", \"High\", \"High\", \"High\", \"High\", \"High\", \"High\", \"Low\", \"High\", \"High\", \"Low\", \"Low\", \"High\", \"High\", \"High\", \"Low\", \"High\", \"High\", \"Low\", \"High\", \"High\", \"High\", \"High\", \"High\", \"High\", \"High\", \"Low\", \"Low\", \"High\", \"Low\", \"Low\", \"High\", \"High\", \"High\", \"High\", \"Low\", \"High\", \"Low\", \"High\", \"High\", \"Low\", \"High\", \"High\", \"High\", \"High\", \"Low\", \"High\", \"High\", \"High\", \"High\", \"Low\", \"High\", \"High\", \"High\", \"Low\", \"High\", \"High\", \"High\", \"High\", \"Low\", \"Low\", \"High\", \"High\", \"High\", \"Low\", \"High\", \"High\", \"High\", \"Low\", \"Low\", \"High\", \"Low\", \"High\", \"Low\", \"Low\", \"High\", \"High\", \"High\", \"High\", \"High\", \"High\", \"High\", \"High\", \"High\", \"High\", \"High\", \"High\", \"High\", \"High\", \"High\", \"Low\", \"High\", \"High\", \"High\", \"High\", \"Low\", \"Low\", \"High\", \"Low\", \"High\", \"High\", \"Low\", \"High\", \"High\", \"High\", \"Low\", \"High\", \"Low\", \"High\", \"High\", \"Low\", \"High\", \"High\", \"High\", \"High\", \"High\", \"High\", \"High\", \"High\", \"Low\", \"High\", \"High\", \"High\", \"Low\", \"High\", \"Low\", \"High\", \"High\", \"High\", \"High\", \"High\", \"Low\", \"High\", \"High\", \"Low\", \"High\", \"High\", \"High\", \"Low\", \"High\", \"High\", \"Low\", \"High\", \"Low\", \"High\", \"High\", \"High\", \"High\", \"High\", \"Low\", \"High\", \"High\", \"Low\", \"Low\", \"High\", \"Low\", \"High\", \"Low\", \"Low\", \"High\", \"High\", \"High\", \"High\", \"High\", \"High\", \"High\", \"High\", \"High\", \"High\", \"High\", \"High\", \"Low\", \"High\", \"High\", \"High\", \"High\", \"High\", \"High\", \"High\", \"High\", \"High\", \"High\", \"High\", \"High\", \"High\", \"High\", \"Low\", \"High\", \"High\", \"High\", \"High\", \"Low\", \"High\", \"High\", \"High\", \"High\", \"Low\", \"High\", \"Low\", \"High\", \"Low\", \"Low\", \"High\", \"High\", \"High\", \"High\", \"High\", \"Low\", \"High\", \"Low\", \"High\", \"High\", \"High\", \"Low\", \"High\", \"High\", \"Low\", \"Low\", \"High\", \"High\", \"High\", \"High\", \"High\", \"Low\", \"High\", \"High\", \"High\", \"High\", \"High\", \"Low\", \"High\", \"High\", \"Low\", \"High\", \"High\", \"Low\", \"High\", \"High\", \"High\", \"High\", \"High\", \"Low\", \"High\", \"Low\", \"High\", \"High\", \"Low\", \"High\", \"Low\", \"High\", \"High\", \"Low\", \"High\", \"High\", \"Low\", \"High\", \"High\", \"High\", \"Low\", \"High\", \"Low\", \"Low\", \"Low\", \"High\", \"High\", \"Low\", \"High\", \"High\", \"High\", \"High\", \"High\", \"High\", \"High\", \"Low\", \"High\", \"High\", \"Low\", \"Low\", \"High\", \"High\", \"High\", \"High\", \"High\", \"High\", \"High\", \"High\", \"High\", \"High\", \"High\", \"High\", \"High\", \"High\", \"High\", \"Low\", \"High\", \"High\", \"Low\", \"High\", \"High\", \"High\", \"High\", \"High\", \"High\", \"High\", \"High\", \"Low\", \"High\", \"High\", \"High\", \"Low\", \"Low\", \"High\", \"Low\", \"Low\", \"High\", \"Low\", \"High\", \"High\", \"Low\", \"High\", \"Low\", \"Low\", \"High\", \"High\", \"Low\", \"High\", \"High\", \"Low\", \"Low\", \"Low\", \"High\", \"High\", \"Low\", \"Low\", \"Low\", \"High\", \"High\", \"Low\", \"Low\", \"Low\", \"Low\", \"High\", \"Low\", \"High\", \"High\", \"High\", \"High\", \"High\", \"Low\", \"High\", \"High\", \"High\", \"Low\", \"Low\", \"Low\", \"High\", \"High\", \"High\", \"High\", \"Low\", \"Low\", \"High\", \"High\", \"High\", \"High\", \"High\", \"High\", \"High\", \"Low\", \"High\", \"Low\", \"High\", \"High\", \"Low\", \"High\", \"Low\", \"High\", \"High\", \"Low\", \"High\", \"High\", \"Low\", \"High\", \"High\", \"High\", \"High\", \"High\", \"High\", \"High\", \"High\", \"Low\", \"High\", \"High\", \"High\", \"High\", \"High\", \"High\", \"High\", \"Low\", \"High\", \"High\", \"Low\", \"Low\", \"High\", \"High\", \"Low\", \"High\", \"High\", \"High\", \"High\", \"High\", \"High\", \"High\", \"Low\", \"High\", \"High\", \"High\", \"Low\", \"High\", \"High\", \"Low\", \"High\", \"High\", \"High\", \"High\", \"Low\", \"Low\", \"High\", \"Low\", \"High\", \"High\", \"High\", \"Low\", \"High\", \"Low\", \"High\", \"Low\", \"High\", \"Low\", \"High\", \"High\", \"Low\", \"High\", \"Low\", \"High\", \"High\", \"High\", \"High\", \"High\", \"High\", \"High\", \"High\", \"High\", \"Low\", \"Low\", \"High\", \"High\", \"Low\", \"High\", \"High\", \"High\", \"Low\", \"High\", \"High\", \"High\", \"High\", \"Low\", \"High\", \"Low\", \"Low\", \"High\", \"High\", \"Low\", \"High\", \"Low\", \"High\", \"High\", \"High\", \"High\", \"High\", \"Low\", \"Low\", \"Low\", \"High\", \"High\", \"High\", \"High\", \"High\", \"High\", \"High\", \"High\", \"High\", \"High\", \"Low\", \"High\", \"High\", \"High\", \"High\", \"Low\", \"High\", \"High\", \"High\", \"Low\", \"Low\", \"Low\", \"Low\", \"High\", \"High\", \"High\", \"Low\", \"Low\", \"High\", \"High\", \"High\", \"High\", \"High\", \"High\", \"High\", \"Low\", \"High\", \"High\", \"High\", \"High\", \"High\", \"Low\", \"High\", \"High\", \"High\", \"Low\", \"High\", \"High\", \"Low\", \"High\", \"High\", \"High\", \"High\", \"High\", \"High\", \"High\", \"High\", \"High\", \"Low\", \"High\", \"Low\", \"Low\", \"High\", \"Low\", \"High\", \"High\", \"High\", \"High\", \"Low\", \"Low\", \"High\", \"Low\", \"High\", \"Low\", \"Low\", \"High\", \"High\", \"High\", \"High\", \"Low\", \"High\", \"High\", \"High\", \"High\", \"Low\", \"High\", \"High\", \"High\", \"High\", \"High\", \"High\", \"High\", \"Low\", \"High\", \"High\", \"High\", \"High\", \"High\", \"High\", \"High\", \"Low\", \"High\", \"High\", \"High\", \"High\", \"High\", \"Low\", \"High\", \"High\", \"High\", \"High\", \"Low\", \"High\", \"High\", \"High\", \"High\", \"Low\", \"Low\", \"High\", \"High\", \"High\", \"High\", \"High\", \"Low\", \"Low\", \"High\", \"High\", \"High\", \"High\", \"High\", \"Low\", \"Low\", \"Low\", \"High\", \"High\", \"High\", \"High\", \"High\", \"Low\", \"High\", \"High\", \"High\", \"High\", \"High\", \"High\", \"Low\", \"High\", \"High\", \"High\", \"Low\", \"High\", \"High\", \"High\", \"High\", \"Low\", \"High\", \"Low\", \"High\", \"High\", \"Low\", \"High\", \"High\", \"High\", \"High\", \"Low\", \"Low\", \"High\", \"High\", \"Low\", \"High\", \"High\", \"High\", \"High\", \"High\", \"High\", \"High\", \"High\", \"High\", \"Low\", \"Low\", \"Low\", \"High\", \"High\", \"Low\", \"High\", \"High\", \"High\", \"High\", \"High\", \"High\", \"Low\", \"High\", \"High\", \"High\", \"High\", \"High\", \"High\", \"High\", \"High\", \"Low\", \"High\", \"Low\", \"High\", \"High\", \"High\", \"High\", \"High\", \"High\", \"High\", \"High\", \"High\", \"High\", \"High\", \"High\", \"High\", \"Low\", \"High\", \"High\", \"High\", \"High\", \"High\", \"High\", \"High\", \"Low\", \"High\", \"High\", \"Low\", \"High\", \"High\", \"High\", \"High\", \"High\", \"High\", \"High\", \"High\", \"High\", \"Low\", \"High\", \"High\", \"High\", \"High\", \"High\", \"High\", \"High\", \"High\", \"High\", \"High\", \"High\", \"High\", \"Low\", \"High\", \"High\", \"High\", \"High\", \"Low\", \"High\", \"Low\", \"High\", \"High\", \"High\", \"High\", \"High\", \"Low\", \"High\", \"High\", \"Low\", \"High\", \"High\", \"Low\", \"High\", \"Low\", \"Low\", \"High\", \"High\", \"Low\", \"High\", \"High\", \"High\", \"High\", \"High\", \"High\", \"High\", \"High\", \"High\", \"High\", \"High\", \"High\", \"Low\", \"High\", \"High\", \"High\", \"Low\", \"Low\", \"High\", \"High\", \"Low\", \"Low\", \"High\", \"High\", \"Low\", \"Low\", \"Low\", \"High\", \"High\", \"High\", \"High\", \"High\", \"High\", \"High\", \"High\", \"High\", \"High\", \"High\", \"Low\", \"High\", \"High\", \"High\", \"High\", \"High\", \"High\", \"Low\", \"High\", \"Low\", \"High\", \"High\", \"High\", \"High\", \"High\", \"High\", \"High\", \"High\", \"Low\", \"High\", \"High\", \"High\", \"High\", \"High\", \"High\", \"Low\", \"Low\", \"Low\", \"High\", \"High\", \"High\", \"High\", \"High\", \"High\", \"High\", \"High\", \"High\", \"Low\", \"High\", \"High\", \"High\", \"High\", \"High\", \"High\", \"High\", \"High\", \"Low\", \"High\", \"Low\", \"High\", \"Low\", \"High\", \"High\", \"High\", \"Low\", \"High\", \"High\", \"High\", \"High\", \"High\", \"High\", \"High\", \"High\", \"Low\", \"Low\", \"High\", \"High\", \"High\", \"High\", \"Low\", \"High\", \"High\", \"High\", \"High\", \"Low\", \"High\", \"High\", \"High\", \"High\", \"High\", \"Low\", \"High\", \"High\", \"Low\", \"High\", \"High\", \"High\", \"High\", \"Low\", \"High\", \"High\", \"High\", \"Low\", \"Low\", \"High\", \"Low\", \"Low\", \"High\", \"Low\", \"High\", \"High\", \"High\", \"High\", \"High\", \"Low\", \"High\", \"High\", \"High\", \"High\", \"High\", \"High\", \"High\", \"High\", \"High\", \"Low\", \"High\", \"High\", \"High\", \"High\", \"Low\", \"High\", \"High\", \"Low\", \"Low\", \"Low\", \"High\", \"High\", \"Low\", \"High\", \"High\", \"Low\", \"Low\", \"Low\", \"High\", \"High\", \"High\", \"High\", \"High\", \"High\", \"High\", \"High\", \"Low\", \"High\", \"High\", \"High\", \"Low\", \"High\", \"Low\", \"High\", \"High\", \"High\", \"Low\", \"High\", \"Low\", \"Low\", \"High\", \"Low\", \"High\", \"Low\", \"High\", \"High\", \"Low\", \"High\", \"High\", \"Low\", \"Low\", \"Low\", \"High\", \"Low\", \"High\", \"Low\", \"High\", \"High\", \"Low\", \"High\", \"High\", \"High\", \"High\", \"Low\", \"Low\", \"High\", \"High\", \"High\", \"High\", \"Low\", \"High\", \"High\", \"Low\", \"Low\", \"Low\", \"High\", \"High\", \"High\", \"High\", \"High\", \"High\", \"High\", \"High\", \"Low\", \"Low\", \"High\", \"High\", \"High\", \"High\", \"High\", \"High\", \"High\", \"High\", \"High\", \"High\", \"High\", \"Low\", \"Low\", \"High\", \"High\", \"High\", \"High\", \"Low\", \"High\", \"High\", \"High\", \"High\", \"High\", \"High\", \"Low\", \"Low\", \"Low\", \"High\", \"High\", \"High\", \"Low\", \"High\", \"High\", \"Low\", \"High\", \"High\", \"High\", \"High\", \"High\", \"Low\", \"Low\", \"High\", \"High\", \"Low\", \"High\", \"High\", \"High\", \"High\", \"High\", \"Low\", \"Low\", \"High\", \"High\", \"High\", \"High\", \"High\", \"High\", \"Low\", \"Low\", \"High\", \"High\", \"Low\", \"High\", \"High\", \"High\", \"High\", \"High\", \"High\", \"Low\", \"High\", \"Low\", \"Low\", \"High\", \"Low\", \"High\", \"High\", \"Low\", \"High\", \"High\", \"Low\", \"High\", \"High\", \"High\", \"High\", \"Low\", \"Low\", \"High\", \"High\", \"Low\", \"Low\", \"High\", \"High\", \"High\", \"High\", \"High\", \"High\", \"High\", \"High\", \"High\", \"High\", \"High\", \"Low\", \"High\", \"High\", \"High\", \"High\", \"High\", \"High\", \"High\", \"High\", \"High\", \"High\", \"Low\", \"High\", \"High\", \"Low\", \"High\", \"Low\", \"High\", \"High\", \"Low\", \"High\", \"High\", \"High\", \"High\", \"High\", \"High\", \"Low\", \"High\", \"High\", \"Low\", \"High\", \"High\", \"High\", \"High\", \"Low\", \"High\", \"High\", \"High\", \"High\", \"Low\", \"High\", \"High\", \"High\", \"High\", \"High\", \"High\", \"High\", \"Low\", \"High\", \"High\", \"Low\", \"High\", \"High\", \"High\", \"High\", \"Low\", \"Low\", \"High\", \"High\", \"Low\", \"High\", \"High\", \"High\", \"Low\", \"High\", \"High\", \"High\", \"High\", \"High\", \"High\", \"High\", \"High\", \"High\", \"High\", \"Low\", \"Low\", \"Low\", \"High\", \"High\", \"Low\", \"High\", \"High\", \"High\", \"High\", \"High\", \"High\", \"High\", \"High\", \"High\", \"High\", \"High\", \"Low\", \"High\", \"High\", \"High\", \"High\", \"High\", \"Low\", \"Low\", \"High\", \"High\", \"High\", \"High\", \"Low\", \"High\", \"High\", \"High\", \"High\", \"Low\", \"High\", \"High\", \"High\", \"High\", \"High\", \"High\", \"High\", \"High\", \"High\"]}],                        {\"barmode\": \"overlay\", \"legend\": {\"bgcolor\": \"#F5F6F9\", \"font\": {\"color\": \"#4D5663\"}}, \"paper_bgcolor\": \"#F5F6F9\", \"plot_bgcolor\": \"#F5F6F9\", \"template\": {\"data\": {\"bar\": [{\"error_x\": {\"color\": \"#2a3f5f\"}, \"error_y\": {\"color\": \"#2a3f5f\"}, \"marker\": {\"line\": {\"color\": \"#E5ECF6\", \"width\": 0.5}}, \"type\": \"bar\"}], \"barpolar\": [{\"marker\": {\"line\": {\"color\": \"#E5ECF6\", \"width\": 0.5}}, \"type\": \"barpolar\"}], \"carpet\": [{\"aaxis\": {\"endlinecolor\": \"#2a3f5f\", \"gridcolor\": \"white\", \"linecolor\": \"white\", \"minorgridcolor\": \"white\", \"startlinecolor\": \"#2a3f5f\"}, \"baxis\": {\"endlinecolor\": \"#2a3f5f\", \"gridcolor\": \"white\", \"linecolor\": \"white\", \"minorgridcolor\": \"white\", \"startlinecolor\": \"#2a3f5f\"}, \"type\": \"carpet\"}], \"choropleth\": [{\"colorbar\": {\"outlinewidth\": 0, \"ticks\": \"\"}, \"type\": \"choropleth\"}], \"contour\": [{\"colorbar\": {\"outlinewidth\": 0, \"ticks\": \"\"}, \"colorscale\": [[0.0, \"#0d0887\"], [0.1111111111111111, \"#46039f\"], [0.2222222222222222, \"#7201a8\"], [0.3333333333333333, \"#9c179e\"], [0.4444444444444444, \"#bd3786\"], [0.5555555555555556, \"#d8576b\"], [0.6666666666666666, \"#ed7953\"], [0.7777777777777778, \"#fb9f3a\"], [0.8888888888888888, \"#fdca26\"], [1.0, \"#f0f921\"]], \"type\": \"contour\"}], \"contourcarpet\": [{\"colorbar\": {\"outlinewidth\": 0, \"ticks\": \"\"}, \"type\": \"contourcarpet\"}], \"heatmap\": [{\"colorbar\": {\"outlinewidth\": 0, \"ticks\": \"\"}, \"colorscale\": [[0.0, \"#0d0887\"], [0.1111111111111111, \"#46039f\"], [0.2222222222222222, \"#7201a8\"], [0.3333333333333333, \"#9c179e\"], [0.4444444444444444, \"#bd3786\"], [0.5555555555555556, \"#d8576b\"], [0.6666666666666666, \"#ed7953\"], [0.7777777777777778, \"#fb9f3a\"], [0.8888888888888888, \"#fdca26\"], [1.0, \"#f0f921\"]], \"type\": \"heatmap\"}], \"heatmapgl\": [{\"colorbar\": {\"outlinewidth\": 0, \"ticks\": \"\"}, \"colorscale\": [[0.0, \"#0d0887\"], [0.1111111111111111, \"#46039f\"], [0.2222222222222222, \"#7201a8\"], [0.3333333333333333, \"#9c179e\"], [0.4444444444444444, \"#bd3786\"], [0.5555555555555556, \"#d8576b\"], [0.6666666666666666, \"#ed7953\"], [0.7777777777777778, \"#fb9f3a\"], [0.8888888888888888, \"#fdca26\"], [1.0, \"#f0f921\"]], \"type\": \"heatmapgl\"}], \"histogram\": [{\"marker\": {\"colorbar\": {\"outlinewidth\": 0, \"ticks\": \"\"}}, \"type\": \"histogram\"}], \"histogram2d\": [{\"colorbar\": {\"outlinewidth\": 0, \"ticks\": \"\"}, \"colorscale\": [[0.0, \"#0d0887\"], [0.1111111111111111, \"#46039f\"], [0.2222222222222222, \"#7201a8\"], [0.3333333333333333, \"#9c179e\"], [0.4444444444444444, \"#bd3786\"], [0.5555555555555556, \"#d8576b\"], [0.6666666666666666, \"#ed7953\"], [0.7777777777777778, \"#fb9f3a\"], [0.8888888888888888, \"#fdca26\"], [1.0, \"#f0f921\"]], \"type\": \"histogram2d\"}], \"histogram2dcontour\": [{\"colorbar\": {\"outlinewidth\": 0, \"ticks\": \"\"}, \"colorscale\": [[0.0, \"#0d0887\"], [0.1111111111111111, \"#46039f\"], [0.2222222222222222, \"#7201a8\"], [0.3333333333333333, \"#9c179e\"], [0.4444444444444444, \"#bd3786\"], [0.5555555555555556, \"#d8576b\"], [0.6666666666666666, \"#ed7953\"], [0.7777777777777778, \"#fb9f3a\"], [0.8888888888888888, \"#fdca26\"], [1.0, \"#f0f921\"]], \"type\": \"histogram2dcontour\"}], \"mesh3d\": [{\"colorbar\": {\"outlinewidth\": 0, \"ticks\": \"\"}, \"type\": \"mesh3d\"}], \"parcoords\": [{\"line\": {\"colorbar\": {\"outlinewidth\": 0, \"ticks\": \"\"}}, \"type\": \"parcoords\"}], \"pie\": [{\"automargin\": true, \"type\": \"pie\"}], \"scatter\": [{\"marker\": {\"colorbar\": {\"outlinewidth\": 0, \"ticks\": \"\"}}, \"type\": \"scatter\"}], \"scatter3d\": [{\"line\": {\"colorbar\": {\"outlinewidth\": 0, \"ticks\": \"\"}}, \"marker\": {\"colorbar\": {\"outlinewidth\": 0, \"ticks\": \"\"}}, \"type\": \"scatter3d\"}], \"scattercarpet\": [{\"marker\": {\"colorbar\": {\"outlinewidth\": 0, \"ticks\": \"\"}}, \"type\": \"scattercarpet\"}], \"scattergeo\": [{\"marker\": {\"colorbar\": {\"outlinewidth\": 0, \"ticks\": \"\"}}, \"type\": \"scattergeo\"}], \"scattergl\": [{\"marker\": {\"colorbar\": {\"outlinewidth\": 0, \"ticks\": \"\"}}, \"type\": \"scattergl\"}], \"scattermapbox\": [{\"marker\": {\"colorbar\": {\"outlinewidth\": 0, \"ticks\": \"\"}}, \"type\": \"scattermapbox\"}], \"scatterpolar\": [{\"marker\": {\"colorbar\": {\"outlinewidth\": 0, \"ticks\": \"\"}}, \"type\": \"scatterpolar\"}], \"scatterpolargl\": [{\"marker\": {\"colorbar\": {\"outlinewidth\": 0, \"ticks\": \"\"}}, \"type\": \"scatterpolargl\"}], \"scatterternary\": [{\"marker\": {\"colorbar\": {\"outlinewidth\": 0, \"ticks\": \"\"}}, \"type\": \"scatterternary\"}], \"surface\": [{\"colorbar\": {\"outlinewidth\": 0, \"ticks\": \"\"}, \"colorscale\": [[0.0, \"#0d0887\"], [0.1111111111111111, \"#46039f\"], [0.2222222222222222, \"#7201a8\"], [0.3333333333333333, \"#9c179e\"], [0.4444444444444444, \"#bd3786\"], [0.5555555555555556, \"#d8576b\"], [0.6666666666666666, \"#ed7953\"], [0.7777777777777778, \"#fb9f3a\"], [0.8888888888888888, \"#fdca26\"], [1.0, \"#f0f921\"]], \"type\": \"surface\"}], \"table\": [{\"cells\": {\"fill\": {\"color\": \"#EBF0F8\"}, \"line\": {\"color\": \"white\"}}, \"header\": {\"fill\": {\"color\": \"#C8D4E3\"}, \"line\": {\"color\": \"white\"}}, \"type\": \"table\"}]}, \"layout\": {\"annotationdefaults\": {\"arrowcolor\": \"#2a3f5f\", \"arrowhead\": 0, \"arrowwidth\": 1}, \"autotypenumbers\": \"strict\", \"coloraxis\": {\"colorbar\": {\"outlinewidth\": 0, \"ticks\": \"\"}}, \"colorscale\": {\"diverging\": [[0, \"#8e0152\"], [0.1, \"#c51b7d\"], [0.2, \"#de77ae\"], [0.3, \"#f1b6da\"], [0.4, \"#fde0ef\"], [0.5, \"#f7f7f7\"], [0.6, \"#e6f5d0\"], [0.7, \"#b8e186\"], [0.8, \"#7fbc41\"], [0.9, \"#4d9221\"], [1, \"#276419\"]], \"sequential\": [[0.0, \"#0d0887\"], [0.1111111111111111, \"#46039f\"], [0.2222222222222222, \"#7201a8\"], [0.3333333333333333, \"#9c179e\"], [0.4444444444444444, \"#bd3786\"], [0.5555555555555556, \"#d8576b\"], [0.6666666666666666, \"#ed7953\"], [0.7777777777777778, \"#fb9f3a\"], [0.8888888888888888, \"#fdca26\"], [1.0, \"#f0f921\"]], \"sequentialminus\": [[0.0, \"#0d0887\"], [0.1111111111111111, \"#46039f\"], [0.2222222222222222, \"#7201a8\"], [0.3333333333333333, \"#9c179e\"], [0.4444444444444444, \"#bd3786\"], [0.5555555555555556, \"#d8576b\"], [0.6666666666666666, \"#ed7953\"], [0.7777777777777778, \"#fb9f3a\"], [0.8888888888888888, \"#fdca26\"], [1.0, \"#f0f921\"]]}, \"colorway\": [\"#636efa\", \"#EF553B\", \"#00cc96\", \"#ab63fa\", \"#FFA15A\", \"#19d3f3\", \"#FF6692\", \"#B6E880\", \"#FF97FF\", \"#FECB52\"], \"font\": {\"color\": \"#2a3f5f\"}, \"geo\": {\"bgcolor\": \"white\", \"lakecolor\": \"white\", \"landcolor\": \"#E5ECF6\", \"showlakes\": true, \"showland\": true, \"subunitcolor\": \"white\"}, \"hoverlabel\": {\"align\": \"left\"}, \"hovermode\": \"closest\", \"mapbox\": {\"style\": \"light\"}, \"paper_bgcolor\": \"white\", \"plot_bgcolor\": \"#E5ECF6\", \"polar\": {\"angularaxis\": {\"gridcolor\": \"white\", \"linecolor\": \"white\", \"ticks\": \"\"}, \"bgcolor\": \"#E5ECF6\", \"radialaxis\": {\"gridcolor\": \"white\", \"linecolor\": \"white\", \"ticks\": \"\"}}, \"scene\": {\"xaxis\": {\"backgroundcolor\": \"#E5ECF6\", \"gridcolor\": \"white\", \"gridwidth\": 2, \"linecolor\": \"white\", \"showbackground\": true, \"ticks\": \"\", \"zerolinecolor\": \"white\"}, \"yaxis\": {\"backgroundcolor\": \"#E5ECF6\", \"gridcolor\": \"white\", \"gridwidth\": 2, \"linecolor\": \"white\", \"showbackground\": true, \"ticks\": \"\", \"zerolinecolor\": \"white\"}, \"zaxis\": {\"backgroundcolor\": \"#E5ECF6\", \"gridcolor\": \"white\", \"gridwidth\": 2, \"linecolor\": \"white\", \"showbackground\": true, \"ticks\": \"\", \"zerolinecolor\": \"white\"}}, \"shapedefaults\": {\"line\": {\"color\": \"#2a3f5f\"}}, \"ternary\": {\"aaxis\": {\"gridcolor\": \"white\", \"linecolor\": \"white\", \"ticks\": \"\"}, \"baxis\": {\"gridcolor\": \"white\", \"linecolor\": \"white\", \"ticks\": \"\"}, \"bgcolor\": \"#E5ECF6\", \"caxis\": {\"gridcolor\": \"white\", \"linecolor\": \"white\", \"ticks\": \"\"}}, \"title\": {\"x\": 0.05}, \"xaxis\": {\"automargin\": true, \"gridcolor\": \"white\", \"linecolor\": \"white\", \"ticks\": \"\", \"title\": {\"standoff\": 15}, \"zerolinecolor\": \"white\", \"zerolinewidth\": 2}, \"yaxis\": {\"automargin\": true, \"gridcolor\": \"white\", \"linecolor\": \"white\", \"ticks\": \"\", \"title\": {\"standoff\": 15}, \"zerolinecolor\": \"white\", \"zerolinewidth\": 2}}}, \"title\": {\"font\": {\"color\": \"#4D5663\"}, \"text\": \"Popularity of the App\"}, \"xaxis\": {\"gridcolor\": \"#E1E5ED\", \"showgrid\": true, \"tickfont\": {\"color\": \"#4D5663\"}, \"title\": {\"font\": {\"color\": \"#4D5663\"}, \"text\": \"popularity\"}, \"zerolinecolor\": \"#E1E5ED\"}, \"yaxis\": {\"gridcolor\": \"#E1E5ED\", \"showgrid\": true, \"tickfont\": {\"color\": \"#4D5663\"}, \"title\": {\"font\": {\"color\": \"#4D5663\"}, \"text\": \"Count\"}, \"zerolinecolor\": \"#E1E5ED\"}},                        {\"showLink\": true, \"linkText\": \"Export to plot.ly\", \"plotlyServerURL\": \"https://plot.ly\", \"responsive\": true}                    ).then(function(){\n",
       "                            \n",
       "var gd = document.getElementById('d0f3e5e4-e760-44e6-a084-3dc87441a508');\n",
       "var x = new MutationObserver(function (mutations, observer) {{\n",
       "        var display = window.getComputedStyle(gd).display;\n",
       "        if (!display || display === 'none') {{\n",
       "            console.log([gd, 'removed!']);\n",
       "            Plotly.purge(gd);\n",
       "            observer.disconnect();\n",
       "        }}\n",
       "}});\n",
       "\n",
       "// Listen for the removal of the full notebook cells\n",
       "var notebookContainer = gd.closest('#notebook-container');\n",
       "if (notebookContainer) {{\n",
       "    x.observe(notebookContainer, {childList: true});\n",
       "}}\n",
       "\n",
       "// Listen for the clearing of the current output cell\n",
       "var outputEl = gd.closest('.output');\n",
       "if (outputEl) {{\n",
       "    x.observe(outputEl, {childList: true});\n",
       "}}\n",
       "\n",
       "                        })                };                });            </script>        </div>"
      ]
     },
     "metadata": {},
     "output_type": "display_data"
    }
   ],
   "source": [
    "#sns.displot(app['popularity'])\n",
    "\n",
    "app['popularity'].iplot(kind='hist',color='green',title=\"Popularity of the App\",xTitle='popularity', yTitle='Count')\n"
   ]
  },
  {
   "cell_type": "code",
   "execution_count": null,
   "id": "98700a47",
   "metadata": {},
   "outputs": [],
   "source": []
  },
  {
   "cell_type": "code",
   "execution_count": 405,
   "id": "ad0dfe5d",
   "metadata": {},
   "outputs": [
    {
     "data": {
      "image/png": "[encoded data removed]",
      "text/plain": [
       "<Figure size 720x432 with 1 Axes>"
      ]
     },
     "metadata": {
      "needs_background": "light"
     },
     "output_type": "display_data"
    }
   ],
   "source": [
    "plt.figure(figsize=(10,6))\n",
    "sns.countplot(x='suitable_for',hue='popularity',data=app)\n",
    "plt.title('Count of App Suitable_for')\n",
    "plt.tight_layout()"
   ]
  },
  {
   "cell_type": "code",
   "execution_count": 406,
   "id": "e30df8fb",
   "metadata": {},
   "outputs": [
    {
     "data": {
      "image/png": "[encoded data removed]",
      "text/plain": [
       "<Figure size 864x432 with 1 Axes>"
      ]
     },
     "metadata": {
      "needs_background": "light"
     },
     "output_type": "display_data"
    }
   ],
   "source": [
    "plt.figure(figsize=(12,6))\n",
    "category=pd.DataFrame(app['category'].value_counts().reset_index().head(10))\n",
    "sns.barplot(x='index',y='category',data=category)\n",
    "plt.title('Top 10 category')\n",
    "plt.tight_layout()"
   ]
  },
  {
   "cell_type": "code",
   "execution_count": null,
   "id": "9f3b8ca3",
   "metadata": {},
   "outputs": [],
   "source": []
  },
  {
   "cell_type": "code",
   "execution_count": null,
   "id": "dd1ee1d5",
   "metadata": {},
   "outputs": [],
   "source": []
  },
  {
   "cell_type": "markdown",
   "id": "2562e967",
   "metadata": {},
   "source": [
    "## Data Process"
   ]
  },
  {
   "cell_type": "code",
   "execution_count": 407,
   "id": "074f9c7d",
   "metadata": {},
   "outputs": [
    {
     "data": {
      "text/plain": [
       "app_id          0\n",
       "category        0\n",
       "reviews         0\n",
       "size            0\n",
       "installs        0\n",
       "price           0\n",
       "suitable_for    0\n",
       "last_update     0\n",
       "latest_ver      4\n",
       "popularity      0\n",
       "dtype: int64"
      ]
     },
     "execution_count": 407,
     "metadata": {},
     "output_type": "execute_result"
    }
   ],
   "source": [
    "app.isnull().sum()"
   ]
  },
  {
   "cell_type": "code",
   "execution_count": 408,
   "id": "15d4cbaf",
   "metadata": {},
   "outputs": [
    {
     "data": {
      "image/png": "[encoded data removed]",
      "text/plain": [
       "<Figure size 432x288 with 2 Axes>"
      ]
     },
     "metadata": {
      "needs_background": "light"
     },
     "output_type": "display_data"
    }
   ],
   "source": [
    "sns.heatmap(app.isnull(),yticklabels=False, cbar=True, cmap='viridis')\n",
    "plt.tight_layout()"
   ]
  },
  {
   "cell_type": "code",
   "execution_count": 409,
   "id": "eb22f294",
   "metadata": {},
   "outputs": [],
   "source": [
    "app['latest_ver']=app['latest_ver'].fillna(app['latest_ver'].mode()[0])"
   ]
  },
  {
   "cell_type": "code",
   "execution_count": 410,
   "id": "18e1b803",
   "metadata": {},
   "outputs": [
    {
     "data": {
      "text/plain": [
       "array(['High', 'Low'], dtype=object)"
      ]
     },
     "execution_count": 410,
     "metadata": {},
     "output_type": "execute_result"
    }
   ],
   "source": [
    "#convert all categorical columns to numeric\n",
    "app['popularity'].unique()"
   ]
  },
  {
   "cell_type": "code",
   "execution_count": 411,
   "id": "f0533bb0",
   "metadata": {},
   "outputs": [],
   "source": [
    "from sklearn.preprocessing import LabelEncoder\n",
    "encoder=LabelEncoder()\n",
    "app['category']=encoder.fit_transform(app['category'])\n",
    "app['suitable_for']=encoder.fit_transform(app['suitable_for'])\n",
    "\n",
    "\n",
    "size_mapping = {'High': 1,'Low': 0}\n",
    "app['popularity'] = app['popularity'].map(size_mapping)"
   ]
  },
  {
   "cell_type": "code",
   "execution_count": 412,
   "id": "53c3dffd",
   "metadata": {},
   "outputs": [
    {
     "name": "stderr",
     "output_type": "stream",
     "text": [
      "C:\\Users\\Daisy\\AppData\\Local\\Temp/ipykernel_12136/1182368818.py:1: FutureWarning:\n",
      "\n",
      "The default value of regex will change from True to False in a future version. In addition, single character regular expressions will *not* be treated as literal strings when regex=True.\n",
      "\n",
      "C:\\Users\\Daisy\\AppData\\Local\\Temp/ipykernel_12136/1182368818.py:2: FutureWarning:\n",
      "\n",
      "The default value of regex will change from True to False in a future version. In addition, single character regular expressions will *not* be treated as literal strings when regex=True.\n",
      "\n"
     ]
    }
   ],
   "source": [
    "app['price'] = app['price'].str.replace(',','').str.replace('$','').astype('float')\n",
    "app['installs'] = app['installs'].str.replace(',','').str.replace('+','').astype('int')\n",
    "app['size'] = app['size'].replace({'k': '*1e3', 'M':'*1e6'}, regex=True).map(pd.eval).astype(int)"
   ]
  },
  {
   "cell_type": "code",
   "execution_count": 413,
   "id": "fef486d8",
   "metadata": {},
   "outputs": [],
   "source": [
    "app['last_update']=pd.to_datetime(app['last_update'])\n",
    "app['Year'] = app['last_update'].apply(lambda time: time.year)"
   ]
  },
  {
   "cell_type": "code",
   "execution_count": 414,
   "id": "dda4ef5a",
   "metadata": {},
   "outputs": [
    {
     "data": {
      "text/html": [
       "<div>\n",
       "<style scoped>\n",
       "    .dataframe tbody tr th:only-of-type {\n",
       "        vertical-align: middle;\n",
       "    }\n",
       "\n",
       "    .dataframe tbody tr th {\n",
       "        vertical-align: top;\n",
       "    }\n",
       "\n",
       "    .dataframe thead th {\n",
       "        text-align: right;\n",
       "    }\n",
       "</style>\n",
       "<table border=\"1\" class=\"dataframe\">\n",
       "  <thead>\n",
       "    <tr style=\"text-align: right;\">\n",
       "      <th></th>\n",
       "      <th>app_id</th>\n",
       "      <th>category</th>\n",
       "      <th>reviews</th>\n",
       "      <th>size</th>\n",
       "      <th>installs</th>\n",
       "      <th>price</th>\n",
       "      <th>suitable_for</th>\n",
       "      <th>last_update</th>\n",
       "      <th>latest_ver</th>\n",
       "      <th>popularity</th>\n",
       "      <th>Year</th>\n",
       "    </tr>\n",
       "  </thead>\n",
       "  <tbody>\n",
       "    <tr>\n",
       "      <th>0</th>\n",
       "      <td>330090</td>\n",
       "      <td>23</td>\n",
       "      <td>4</td>\n",
       "      <td>511000</td>\n",
       "      <td>50</td>\n",
       "      <td>0.00</td>\n",
       "      <td>1</td>\n",
       "      <td>2016-12-31</td>\n",
       "      <td>1.4</td>\n",
       "      <td>1</td>\n",
       "      <td>2016</td>\n",
       "    </tr>\n",
       "    <tr>\n",
       "      <th>1</th>\n",
       "      <td>226147</td>\n",
       "      <td>14</td>\n",
       "      <td>568391</td>\n",
       "      <td>5200000</td>\n",
       "      <td>5000000</td>\n",
       "      <td>0.00</td>\n",
       "      <td>4</td>\n",
       "      <td>2014-07-01</td>\n",
       "      <td>4.3.1</td>\n",
       "      <td>1</td>\n",
       "      <td>2014</td>\n",
       "    </tr>\n",
       "    <tr>\n",
       "      <th>2</th>\n",
       "      <td>107000</td>\n",
       "      <td>11</td>\n",
       "      <td>144</td>\n",
       "      <td>70000000</td>\n",
       "      <td>1000</td>\n",
       "      <td>2.99</td>\n",
       "      <td>4</td>\n",
       "      <td>2018-01-26</td>\n",
       "      <td>1.0.0</td>\n",
       "      <td>1</td>\n",
       "      <td>2018</td>\n",
       "    </tr>\n",
       "    <tr>\n",
       "      <th>3</th>\n",
       "      <td>217582</td>\n",
       "      <td>11</td>\n",
       "      <td>1499466</td>\n",
       "      <td>96000000</td>\n",
       "      <td>10000000</td>\n",
       "      <td>0.00</td>\n",
       "      <td>4</td>\n",
       "      <td>2018-07-24</td>\n",
       "      <td>1.25.0</td>\n",
       "      <td>1</td>\n",
       "      <td>2018</td>\n",
       "    </tr>\n",
       "    <tr>\n",
       "      <th>4</th>\n",
       "      <td>370113</td>\n",
       "      <td>7</td>\n",
       "      <td>84</td>\n",
       "      <td>4500000</td>\n",
       "      <td>1000</td>\n",
       "      <td>0.00</td>\n",
       "      <td>3</td>\n",
       "      <td>2018-07-06</td>\n",
       "      <td>8.2</td>\n",
       "      <td>1</td>\n",
       "      <td>2018</td>\n",
       "    </tr>\n",
       "  </tbody>\n",
       "</table>\n",
       "</div>"
      ],
      "text/plain": [
       "   app_id  category  reviews      size  installs  price  suitable_for  \\\n",
       "0  330090        23        4    511000        50   0.00             1   \n",
       "1  226147        14   568391   5200000   5000000   0.00             4   \n",
       "2  107000        11      144  70000000      1000   2.99             4   \n",
       "3  217582        11  1499466  96000000  10000000   0.00             4   \n",
       "4  370113         7       84   4500000      1000   0.00             3   \n",
       "\n",
       "  last_update latest_ver  popularity  Year  \n",
       "0  2016-12-31        1.4           1  2016  \n",
       "1  2014-07-01      4.3.1           1  2014  \n",
       "2  2018-01-26      1.0.0           1  2018  \n",
       "3  2018-07-24     1.25.0           1  2018  \n",
       "4  2018-07-06        8.2           1  2018  "
      ]
     },
     "execution_count": 414,
     "metadata": {},
     "output_type": "execute_result"
    }
   ],
   "source": [
    "app.head()"
   ]
  },
  {
   "cell_type": "code",
   "execution_count": 415,
   "id": "b8ff26b4",
   "metadata": {},
   "outputs": [
    {
     "data": {
      "image/png": "[encoded data removed]",
      "text/plain": [
       "<Figure size 720x432 with 2 Axes>"
      ]
     },
     "metadata": {
      "needs_background": "light"
     },
     "output_type": "display_data"
    }
   ],
   "source": [
    "plt.figure(figsize=(10,6))\n",
    "sns.heatmap(app.corr(),cmap='coolwarm',annot=True)\n",
    "plt.tight_layout()"
   ]
  },
  {
   "cell_type": "code",
   "execution_count": 416,
   "id": "910447dc",
   "metadata": {},
   "outputs": [
    {
     "data": {
      "image/png": "[encoded data removed]",
      "text/plain": [
       "<Figure size 864x432 with 1 Axes>"
      ]
     },
     "metadata": {
      "needs_background": "light"
     },
     "output_type": "display_data"
    }
   ],
   "source": [
    "category = app['Year'].value_counts().reset_index()\n",
    "\n",
    "plt.figure(figsize=(12,6))\n",
    "sns.barplot(x='index',y='Year',data=category)\n",
    "plt.title('Last update by year')\n",
    "plt.tight_layout()"
   ]
  },
  {
   "cell_type": "markdown",
   "id": "d8c068b3",
   "metadata": {},
   "source": [
    "\n",
    "### Process Imbalance Data"
   ]
  },
  {
   "cell_type": "code",
   "execution_count": 417,
   "id": "b399abb4",
   "metadata": {},
   "outputs": [
    {
     "data": {
      "text/plain": [
       "1    1450\n",
       "0     525\n",
       "Name: popularity, dtype: int64"
      ]
     },
     "execution_count": 417,
     "metadata": {},
     "output_type": "execute_result"
    }
   ],
   "source": [
    "app['popularity'].value_counts()"
   ]
  },
  {
   "cell_type": "code",
   "execution_count": 418,
   "id": "fc86cfd8",
   "metadata": {},
   "outputs": [
    {
     "data": {
      "text/plain": [
       "1    1450\n",
       "0    1450\n",
       "Name: popularity, dtype: int64"
      ]
     },
     "execution_count": 418,
     "metadata": {},
     "output_type": "execute_result"
    }
   ],
   "source": [
    "df_majority = app[app['popularity']==1]\n",
    "df_minority = app[app['popularity']==0]\n",
    "\n",
    "from sklearn.utils import resample\n",
    "df_minority_upsampled = resample(df_minority, \n",
    "                                 replace=True,    \n",
    "                                 n_samples=1450,    \n",
    "                                 random_state=123)\n",
    "\n",
    "df_upsampled = pd.concat([df_majority, df_minority_upsampled])\n",
    "df_upsampled['popularity'].value_counts()"
   ]
  },
  {
   "cell_type": "markdown",
   "id": "8128d0fa",
   "metadata": {},
   "source": [
    "#### Splitting into a Training/Test set"
   ]
  },
  {
   "cell_type": "code",
   "execution_count": 419,
   "id": "978d3a54",
   "metadata": {},
   "outputs": [],
   "source": [
    "from sklearn.model_selection import train_test_split\n",
    "\n",
    "X =df_upsampled.drop(['last_update','latest_ver','popularity'],axis=1)\n",
    "y =df_upsampled['popularity']\n",
    "\n",
    "\n",
    "X_train, X_test, y_train, y_test = train_test_split(X, y, test_size=0.30, random_state=42)"
   ]
  },
  {
   "cell_type": "markdown",
   "id": "8cebb001",
   "metadata": {},
   "source": [
    "#from sklearn.preprocessing import StandardScaler\n",
    "#scl= StandardScaler()\n",
    "#X_train_std = scl.fit_transform(X_train)\n",
    "#X_test_std = scl.transform(X_test)"
   ]
  },
  {
   "cell_type": "code",
   "execution_count": 420,
   "id": "8fdb79f8",
   "metadata": {},
   "outputs": [],
   "source": [
    "## Fit the data"
   ]
  },
  {
   "cell_type": "code",
   "execution_count": 421,
   "id": "22774a17",
   "metadata": {},
   "outputs": [],
   "source": [
    "from sklearn.linear_model import LogisticRegression\n",
    "logmodel= LogisticRegression()\n",
    "logmodel.fit(X_train,y_train)\n",
    "prediction_log= logmodel.predict(X_test)"
   ]
  },
  {
   "cell_type": "code",
   "execution_count": 422,
   "id": "ba1e693c",
   "metadata": {},
   "outputs": [
    {
     "data": {
      "text/plain": [
       "0.6620689655172414"
      ]
     },
     "execution_count": 422,
     "metadata": {},
     "output_type": "execute_result"
    }
   ],
   "source": [
    "from sklearn.metrics import accuracy_score\n",
    "accuracy_log = accuracy_score(y_test,prediction_log)\n",
    "accuracy_log"
   ]
  },
  {
   "cell_type": "code",
   "execution_count": 423,
   "id": "e391c59e",
   "metadata": {},
   "outputs": [
    {
     "name": "stdout",
     "output_type": "stream",
     "text": [
      "              precision    recall  f1-score   support\n",
      "\n",
      "           0       0.60      0.95      0.74       435\n",
      "           1       0.88      0.37      0.53       435\n",
      "\n",
      "    accuracy                           0.66       870\n",
      "   macro avg       0.74      0.66      0.63       870\n",
      "weighted avg       0.74      0.66      0.63       870\n",
      "\n",
      "[[413  22]\n",
      " [272 163]]\n"
     ]
    }
   ],
   "source": [
    "from sklearn.metrics import classification_report,confusion_matrix\n",
    "print(classification_report(y_test,prediction_log))\n",
    "print(confusion_matrix(y_test,prediction_log))"
   ]
  },
  {
   "cell_type": "code",
   "execution_count": 424,
   "id": "aa12a350",
   "metadata": {},
   "outputs": [],
   "source": [
    "from sklearn.ensemble import RandomForestClassifier\n",
    "forest = RandomForestClassifier(n_estimators = 400)\n",
    "forest.fit(X_train, y_train)\n",
    "prediction_rf= forest.predict(X_test)\n"
   ]
  },
  {
   "cell_type": "code",
   "execution_count": 425,
   "id": "e265b57a",
   "metadata": {},
   "outputs": [
    {
     "data": {
      "text/plain": [
       "0.8839080459770114"
      ]
     },
     "execution_count": 425,
     "metadata": {},
     "output_type": "execute_result"
    }
   ],
   "source": [
    "accuracy_rf = accuracy_score(y_test,prediction_rf)\n",
    "accuracy_rf"
   ]
  },
  {
   "cell_type": "code",
   "execution_count": 426,
   "id": "d0265066",
   "metadata": {},
   "outputs": [
    {
     "name": "stdout",
     "output_type": "stream",
     "text": [
      "              precision    recall  f1-score   support\n",
      "\n",
      "           0       0.85      0.94      0.89       435\n",
      "           1       0.93      0.83      0.88       435\n",
      "\n",
      "    accuracy                           0.88       870\n",
      "   macro avg       0.89      0.88      0.88       870\n",
      "weighted avg       0.89      0.88      0.88       870\n",
      "\n",
      "[[409  26]\n",
      " [ 75 360]]\n"
     ]
    }
   ],
   "source": [
    "\n",
    "print(classification_report(y_test,prediction_rf))\n",
    "print(confusion_matrix(y_test,prediction_rf))"
   ]
  },
  {
   "cell_type": "code",
   "execution_count": 427,
   "id": "8ea0f556",
   "metadata": {},
   "outputs": [
    {
     "name": "stdout",
     "output_type": "stream",
     "text": [
      "              precision    recall  f1-score   support\n",
      "\n",
      "           0       0.85      0.94      0.89       435\n",
      "           1       0.93      0.83      0.88       435\n",
      "\n",
      "    accuracy                           0.88       870\n",
      "   macro avg       0.89      0.88      0.88       870\n",
      "weighted avg       0.89      0.88      0.88       870\n",
      "\n",
      "[[409  26]\n",
      " [ 75 360]]\n"
     ]
    }
   ],
   "source": [
    "from sklearn.metrics import classification_report,confusion_matrix\n",
    "print(classification_report(y_test,prediction_rf))\n",
    "print(confusion_matrix(y_test,prediction_rf))"
   ]
  },
  {
   "cell_type": "code",
   "execution_count": 428,
   "id": "a075eea1",
   "metadata": {},
   "outputs": [],
   "source": [
    "from sklearn.naive_bayes import GaussianNB\n",
    "nbmodel = GaussianNB()\n",
    "nbmodel.fit(X_train, y_train)\n",
    "prediction_nb= nbmodel.predict(X_test)\n"
   ]
  },
  {
   "cell_type": "code",
   "execution_count": 429,
   "id": "42629ef5",
   "metadata": {},
   "outputs": [
    {
     "data": {
      "text/plain": [
       "0.5908045977011495"
      ]
     },
     "execution_count": 429,
     "metadata": {},
     "output_type": "execute_result"
    }
   ],
   "source": [
    "accuracy_nb = accuracy_score(y_test,prediction_nb)\n",
    "accuracy_nb\n"
   ]
  },
  {
   "cell_type": "code",
   "execution_count": null,
   "id": "df48fc42",
   "metadata": {},
   "outputs": [],
   "source": []
  },
  {
   "cell_type": "code",
   "execution_count": null,
   "id": "feefa975",
   "metadata": {},
   "outputs": [],
   "source": []
  },
  {
   "cell_type": "markdown",
   "id": "735efe4c",
   "metadata": {},
   "source": [
    "## Similar Approach to the provided test data"
   ]
  },
  {
   "cell_type": "code",
   "execution_count": 430,
   "id": "dc8623f7",
   "metadata": {},
   "outputs": [],
   "source": [
    "testdf=pd.read_csv('test.csv')"
   ]
  },
  {
   "cell_type": "code",
   "execution_count": 431,
   "id": "954415fd",
   "metadata": {},
   "outputs": [
    {
     "data": {
      "text/html": [
       "<div>\n",
       "<style scoped>\n",
       "    .dataframe tbody tr th:only-of-type {\n",
       "        vertical-align: middle;\n",
       "    }\n",
       "\n",
       "    .dataframe tbody tr th {\n",
       "        vertical-align: top;\n",
       "    }\n",
       "\n",
       "    .dataframe thead th {\n",
       "        text-align: right;\n",
       "    }\n",
       "</style>\n",
       "<table border=\"1\" class=\"dataframe\">\n",
       "  <thead>\n",
       "    <tr style=\"text-align: right;\">\n",
       "      <th></th>\n",
       "      <th>app_id</th>\n",
       "      <th>category</th>\n",
       "      <th>reviews</th>\n",
       "      <th>size</th>\n",
       "      <th>installs</th>\n",
       "      <th>price</th>\n",
       "      <th>suitable_for</th>\n",
       "      <th>last_update</th>\n",
       "      <th>latest_ver</th>\n",
       "    </tr>\n",
       "  </thead>\n",
       "  <tbody>\n",
       "    <tr>\n",
       "      <th>0</th>\n",
       "      <td>144236</td>\n",
       "      <td>TOOLS</td>\n",
       "      <td>262076</td>\n",
       "      <td>1.2M</td>\n",
       "      <td>10,000,000+</td>\n",
       "      <td>0</td>\n",
       "      <td>Everyone</td>\n",
       "      <td>January 4, 2018</td>\n",
       "      <td>1.0.2</td>\n",
       "    </tr>\n",
       "    <tr>\n",
       "      <th>1</th>\n",
       "      <td>881323</td>\n",
       "      <td>PHOTOGRAPHY</td>\n",
       "      <td>12204</td>\n",
       "      <td>6.8M</td>\n",
       "      <td>1,000,000+</td>\n",
       "      <td>0</td>\n",
       "      <td>Everyone</td>\n",
       "      <td>March 14, 2017</td>\n",
       "      <td>1.5.2.21</td>\n",
       "    </tr>\n",
       "    <tr>\n",
       "      <th>2</th>\n",
       "      <td>765524</td>\n",
       "      <td>TOOLS</td>\n",
       "      <td>632</td>\n",
       "      <td>8.2M</td>\n",
       "      <td>500,000+</td>\n",
       "      <td>0</td>\n",
       "      <td>Everyone</td>\n",
       "      <td>May 23, 2017</td>\n",
       "      <td>1.0</td>\n",
       "    </tr>\n",
       "    <tr>\n",
       "      <th>3</th>\n",
       "      <td>390533</td>\n",
       "      <td>BUSINESS</td>\n",
       "      <td>29</td>\n",
       "      <td>16M</td>\n",
       "      <td>500+</td>\n",
       "      <td>0</td>\n",
       "      <td>Everyone</td>\n",
       "      <td>July 5, 2018</td>\n",
       "      <td>2.2.1335</td>\n",
       "    </tr>\n",
       "    <tr>\n",
       "      <th>4</th>\n",
       "      <td>817383</td>\n",
       "      <td>ART_AND_DESIGN</td>\n",
       "      <td>192</td>\n",
       "      <td>6.0M</td>\n",
       "      <td>10,000+</td>\n",
       "      <td>0</td>\n",
       "      <td>Everyone</td>\n",
       "      <td>April 25, 2018</td>\n",
       "      <td>1.5</td>\n",
       "    </tr>\n",
       "  </tbody>\n",
       "</table>\n",
       "</div>"
      ],
      "text/plain": [
       "   app_id        category  reviews  size     installs price suitable_for  \\\n",
       "0  144236           TOOLS   262076  1.2M  10,000,000+     0     Everyone   \n",
       "1  881323     PHOTOGRAPHY    12204  6.8M   1,000,000+     0     Everyone   \n",
       "2  765524           TOOLS      632  8.2M     500,000+     0     Everyone   \n",
       "3  390533        BUSINESS       29   16M         500+     0     Everyone   \n",
       "4  817383  ART_AND_DESIGN      192  6.0M      10,000+     0     Everyone   \n",
       "\n",
       "       last_update latest_ver  \n",
       "0  January 4, 2018      1.0.2  \n",
       "1   March 14, 2017   1.5.2.21  \n",
       "2     May 23, 2017        1.0  \n",
       "3     July 5, 2018   2.2.1335  \n",
       "4   April 25, 2018        1.5  "
      ]
     },
     "execution_count": 431,
     "metadata": {},
     "output_type": "execute_result"
    }
   ],
   "source": [
    "testdf.head()"
   ]
  },
  {
   "cell_type": "code",
   "execution_count": 432,
   "id": "f7f247d8",
   "metadata": {},
   "outputs": [],
   "source": [
    "#"
   ]
  },
  {
   "cell_type": "code",
   "execution_count": 433,
   "id": "543ace37",
   "metadata": {},
   "outputs": [
    {
     "name": "stderr",
     "output_type": "stream",
     "text": [
      "C:\\Users\\Daisy\\AppData\\Local\\Temp/ipykernel_12136/984064798.py:8: FutureWarning:\n",
      "\n",
      "The default value of regex will change from True to False in a future version. In addition, single character regular expressions will *not* be treated as literal strings when regex=True.\n",
      "\n",
      "C:\\Users\\Daisy\\AppData\\Local\\Temp/ipykernel_12136/984064798.py:9: FutureWarning:\n",
      "\n",
      "The default value of regex will change from True to False in a future version. In addition, single character regular expressions will *not* be treated as literal strings when regex=True.\n",
      "\n"
     ]
    }
   ],
   "source": [
    "from sklearn.preprocessing import LabelEncoder\n",
    "encoder=LabelEncoder()\n",
    "testdf['category']=encoder.fit_transform(testdf['category'])\n",
    "testdf['suitable_for']=encoder.fit_transform(testdf['suitable_for'])\n",
    "#app['popularity']=encoder.fit_transform(app['popularity'])\n",
    "\n",
    "\n",
    "testdf['price'] = testdf['price'].str.replace(',','').str.replace('$','').astype('float')\n",
    "testdf['installs'] = testdf['installs'].str.replace(',','').str.replace('+','').astype('int')\n",
    "testdf['size'] = testdf['size'].replace({'k': '*1e3', 'M':'*1e6'}, regex=True).map(pd.eval).astype(int)\n",
    "\n",
    "testdf['last_update']=pd.to_datetime(testdf['last_update'])\n",
    "testdf['Year'] = testdf['last_update'].apply(lambda time: time.year)"
   ]
  },
  {
   "cell_type": "code",
   "execution_count": 434,
   "id": "4761afec",
   "metadata": {},
   "outputs": [
    {
     "data": {
      "text/html": [
       "<div>\n",
       "<style scoped>\n",
       "    .dataframe tbody tr th:only-of-type {\n",
       "        vertical-align: middle;\n",
       "    }\n",
       "\n",
       "    .dataframe tbody tr th {\n",
       "        vertical-align: top;\n",
       "    }\n",
       "\n",
       "    .dataframe thead th {\n",
       "        text-align: right;\n",
       "    }\n",
       "</style>\n",
       "<table border=\"1\" class=\"dataframe\">\n",
       "  <thead>\n",
       "    <tr style=\"text-align: right;\">\n",
       "      <th></th>\n",
       "      <th>app_id</th>\n",
       "      <th>category</th>\n",
       "      <th>reviews</th>\n",
       "      <th>size</th>\n",
       "      <th>installs</th>\n",
       "      <th>price</th>\n",
       "      <th>suitable_for</th>\n",
       "      <th>last_update</th>\n",
       "      <th>latest_ver</th>\n",
       "      <th>Year</th>\n",
       "    </tr>\n",
       "  </thead>\n",
       "  <tbody>\n",
       "    <tr>\n",
       "      <th>0</th>\n",
       "      <td>144236</td>\n",
       "      <td>29</td>\n",
       "      <td>262076</td>\n",
       "      <td>1200000</td>\n",
       "      <td>10000000</td>\n",
       "      <td>0.0</td>\n",
       "      <td>1</td>\n",
       "      <td>2018-01-04</td>\n",
       "      <td>1.0.2</td>\n",
       "      <td>2018</td>\n",
       "    </tr>\n",
       "    <tr>\n",
       "      <th>1</th>\n",
       "      <td>881323</td>\n",
       "      <td>24</td>\n",
       "      <td>12204</td>\n",
       "      <td>6800000</td>\n",
       "      <td>1000000</td>\n",
       "      <td>0.0</td>\n",
       "      <td>1</td>\n",
       "      <td>2017-03-14</td>\n",
       "      <td>1.5.2.21</td>\n",
       "      <td>2017</td>\n",
       "    </tr>\n",
       "    <tr>\n",
       "      <th>2</th>\n",
       "      <td>765524</td>\n",
       "      <td>29</td>\n",
       "      <td>632</td>\n",
       "      <td>8199999</td>\n",
       "      <td>500000</td>\n",
       "      <td>0.0</td>\n",
       "      <td>1</td>\n",
       "      <td>2017-05-23</td>\n",
       "      <td>1.0</td>\n",
       "      <td>2017</td>\n",
       "    </tr>\n",
       "    <tr>\n",
       "      <th>3</th>\n",
       "      <td>390533</td>\n",
       "      <td>4</td>\n",
       "      <td>29</td>\n",
       "      <td>16000000</td>\n",
       "      <td>500</td>\n",
       "      <td>0.0</td>\n",
       "      <td>1</td>\n",
       "      <td>2018-07-05</td>\n",
       "      <td>2.2.1335</td>\n",
       "      <td>2018</td>\n",
       "    </tr>\n",
       "    <tr>\n",
       "      <th>4</th>\n",
       "      <td>817383</td>\n",
       "      <td>0</td>\n",
       "      <td>192</td>\n",
       "      <td>6000000</td>\n",
       "      <td>10000</td>\n",
       "      <td>0.0</td>\n",
       "      <td>1</td>\n",
       "      <td>2018-04-25</td>\n",
       "      <td>1.5</td>\n",
       "      <td>2018</td>\n",
       "    </tr>\n",
       "  </tbody>\n",
       "</table>\n",
       "</div>"
      ],
      "text/plain": [
       "   app_id  category  reviews      size  installs  price  suitable_for  \\\n",
       "0  144236        29   262076   1200000  10000000    0.0             1   \n",
       "1  881323        24    12204   6800000   1000000    0.0             1   \n",
       "2  765524        29      632   8199999    500000    0.0             1   \n",
       "3  390533         4       29  16000000       500    0.0             1   \n",
       "4  817383         0      192   6000000     10000    0.0             1   \n",
       "\n",
       "  last_update latest_ver  Year  \n",
       "0  2018-01-04      1.0.2  2018  \n",
       "1  2017-03-14   1.5.2.21  2017  \n",
       "2  2017-05-23        1.0  2017  \n",
       "3  2018-07-05   2.2.1335  2018  \n",
       "4  2018-04-25        1.5  2018  "
      ]
     },
     "execution_count": 434,
     "metadata": {},
     "output_type": "execute_result"
    }
   ],
   "source": [
    "testdf.head()"
   ]
  },
  {
   "cell_type": "code",
   "execution_count": 435,
   "id": "403b918a",
   "metadata": {},
   "outputs": [],
   "source": [
    "test=testdf.drop(['last_update','latest_ver'],axis=1)\n",
    "prediction_test= forest.predict(test)"
   ]
  },
  {
   "cell_type": "code",
   "execution_count": 436,
   "id": "411d0d11",
   "metadata": {},
   "outputs": [],
   "source": [
    "my_submission = pd.DataFrame({'app_id': testdf.app_id, 'popularity': prediction_test})\n",
    "my_submission['popularity'] = my_submission['popularity'].map({1: 'High', 0: 'Low'})\n"
   ]
  },
  {
   "cell_type": "code",
   "execution_count": 437,
   "id": "8a365bbc",
   "metadata": {},
   "outputs": [],
   "source": [
    "my_submission.to_csv('submission.csv', index=False)"
   ]
  }
 ],
 "metadata": {
  "kernelspec": {
   "display_name": "Python 3 (ipykernel)",
   "language": "python",
   "name": "python3"
  },
  "language_info": {
   "codemirror_mode": {
    "name": "ipython",
    "version": 3
   },
   "file_extension": ".py",
   "mimetype": "text/x-python",
   "name": "python",
   "nbconvert_exporter": "python",
   "pygments_lexer": "ipython3",
   "version": "3.9.7"
  }
 },
 "nbformat": 4,
 "nbformat_minor": 5
}
